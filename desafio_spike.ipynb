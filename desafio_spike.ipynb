{
 "cells": [
  {
   "cell_type": "markdown",
   "metadata": {},
   "source": [
    "# Desafío Spike Septiembre 2020 - Predicción de desviación de precios en el sistema eléctrico chileno"
   ]
  },
  {
   "cell_type": "markdown",
   "metadata": {},
   "source": [
    "### 1. Costos marginales\n",
    "\n",
    "\n",
    "- Carga el archivo costo_marginal_real.csvEstos son los costos marginales reales observados.\n",
    "- Carga el archivo costo_marginal_programado.csv. Estos son los costos marginales previstos por el sistema.\n",
    "- Haz un merge del costos marginal real con el costo marginal programado a nivel de barra (*Ayuda: la columna de join no se llama igual en ambas bases! Los datos venían así del SIC *). Llama a esta nueva base costo_marginal\n",
    "- Realiza un análisis exploratorio de la base resultante. ¿Qué puedes decir de las distintas variables? ¿Cómo distribuyen? En particular analiza las barras (barra_mnemotecnico). ¿Para cuántas barras se programa el costo? ¿Qué porcentaje es del total de barras que puedes observar en la base?"
   ]
  },
  {
   "cell_type": "code",
   "execution_count": 2,
   "metadata": {},
   "outputs": [],
   "source": [
    "import pandas as pd"
   ]
  },
  {
   "cell_type": "code",
   "execution_count": 3,
   "metadata": {},
   "outputs": [],
   "source": [
    "c_mreal = pd.read_csv(\"data/costo_marginal_real.csv\")\n",
    "c_mprogramado = pd.read_csv(\"data/costo_marginal_programado.csv\")"
   ]
  },
  {
   "cell_type": "code",
   "execution_count": 4,
   "metadata": {},
   "outputs": [
    {
     "data": {
      "text/html": [
       "<div>\n",
       "<style scoped>\n",
       "    .dataframe tbody tr th:only-of-type {\n",
       "        vertical-align: middle;\n",
       "    }\n",
       "\n",
       "    .dataframe tbody tr th {\n",
       "        vertical-align: top;\n",
       "    }\n",
       "\n",
       "    .dataframe thead th {\n",
       "        text-align: right;\n",
       "    }\n",
       "</style>\n",
       "<table border=\"1\" class=\"dataframe\">\n",
       "  <thead>\n",
       "    <tr style=\"text-align: right;\">\n",
       "      <th></th>\n",
       "      <th>barra_mnemotecnico</th>\n",
       "      <th>barra_referencia_mnemotecnico</th>\n",
       "      <th>fecha</th>\n",
       "      <th>hora</th>\n",
       "      <th>costo_en_dolares</th>\n",
       "      <th>costo_en_pesos</th>\n",
       "      <th>nombre</th>\n",
       "    </tr>\n",
       "  </thead>\n",
       "  <tbody>\n",
       "    <tr>\n",
       "      <th>0</th>\n",
       "      <td>BA01T005SE075T005</td>\n",
       "      <td>BA02T002SE032T002</td>\n",
       "      <td>2019-04-06</td>\n",
       "      <td>25</td>\n",
       "      <td>62.24</td>\n",
       "      <td>41.47176</td>\n",
       "      <td>BA S/E LORETO 15KV</td>\n",
       "    </tr>\n",
       "    <tr>\n",
       "      <th>1</th>\n",
       "      <td>BA01T005SE175T005</td>\n",
       "      <td>BA02T002SE032T002</td>\n",
       "      <td>2019-04-06</td>\n",
       "      <td>25</td>\n",
       "      <td>62.56</td>\n",
       "      <td>41.68498</td>\n",
       "      <td>BA S/E RETIRO 13.2KV</td>\n",
       "    </tr>\n",
       "    <tr>\n",
       "      <th>2</th>\n",
       "      <td>BA03R002SE002R002</td>\n",
       "      <td>BA02T002SE032T002</td>\n",
       "      <td>2019-04-06</td>\n",
       "      <td>25</td>\n",
       "      <td>60.04</td>\n",
       "      <td>40.00585</td>\n",
       "      <td>BA S/E ALTAMIRANO 12.5KV BP1</td>\n",
       "    </tr>\n",
       "    <tr>\n",
       "      <th>3</th>\n",
       "      <td>BA01R002SE012R002</td>\n",
       "      <td>BA02T002SE032T002</td>\n",
       "      <td>2019-04-06</td>\n",
       "      <td>25</td>\n",
       "      <td>61.65</td>\n",
       "      <td>41.07863</td>\n",
       "      <td>BA S/E CURACAVI 44KV B1</td>\n",
       "    </tr>\n",
       "    <tr>\n",
       "      <th>4</th>\n",
       "      <td>BA03R002SE013R002</td>\n",
       "      <td>BA02T002SE032T002</td>\n",
       "      <td>2019-04-06</td>\n",
       "      <td>25</td>\n",
       "      <td>59.55</td>\n",
       "      <td>39.67936</td>\n",
       "      <td>BA S/E EL MANZANO (ENEL DISTRIBUCIÓN) 23KV BP1</td>\n",
       "    </tr>\n",
       "  </tbody>\n",
       "</table>\n",
       "</div>"
      ],
      "text/plain": [
       "  barra_mnemotecnico barra_referencia_mnemotecnico       fecha  hora  \\\n",
       "0  BA01T005SE075T005             BA02T002SE032T002  2019-04-06    25   \n",
       "1  BA01T005SE175T005             BA02T002SE032T002  2019-04-06    25   \n",
       "2  BA03R002SE002R002             BA02T002SE032T002  2019-04-06    25   \n",
       "3  BA01R002SE012R002             BA02T002SE032T002  2019-04-06    25   \n",
       "4  BA03R002SE013R002             BA02T002SE032T002  2019-04-06    25   \n",
       "\n",
       "   costo_en_dolares  costo_en_pesos  \\\n",
       "0             62.24        41.47176   \n",
       "1             62.56        41.68498   \n",
       "2             60.04        40.00585   \n",
       "3             61.65        41.07863   \n",
       "4             59.55        39.67936   \n",
       "\n",
       "                                           nombre  \n",
       "0                              BA S/E LORETO 15KV  \n",
       "1                            BA S/E RETIRO 13.2KV  \n",
       "2                    BA S/E ALTAMIRANO 12.5KV BP1  \n",
       "3                         BA S/E CURACAVI 44KV B1  \n",
       "4  BA S/E EL MANZANO (ENEL DISTRIBUCIÓN) 23KV BP1  "
      ]
     },
     "execution_count": 4,
     "metadata": {},
     "output_type": "execute_result"
    }
   ],
   "source": [
    "c_mreal.head()"
   ]
  },
  {
   "cell_type": "code",
   "execution_count": 5,
   "metadata": {},
   "outputs": [
    {
     "data": {
      "text/plain": [
       "(4309951, 7)"
      ]
     },
     "execution_count": 5,
     "metadata": {},
     "output_type": "execute_result"
    }
   ],
   "source": [
    "c_mreal.shape"
   ]
  },
  {
   "cell_type": "markdown",
   "metadata": {},
   "source": [
    "Obtenemos una submuestra de cada conjunto de datos ya que al hacer el join con todas las observaciones de ambos datasets, se cae el sistema. "
   ]
  },
  {
   "cell_type": "code",
   "execution_count": 6,
   "metadata": {},
   "outputs": [],
   "source": [
    "c_mreal_sub = c_mreal.sample(frac=0.3, replace=False, random_state=123).sort_values(['fecha', 'hora'])"
   ]
  },
  {
   "cell_type": "code",
   "execution_count": 7,
   "metadata": {},
   "outputs": [],
   "source": [
    "c_mprogramado_sub = c_mprogramado.sample(frac=0.3, replace=False, random_state=123).sort_values(['fecha', 'hora'])"
   ]
  },
  {
   "cell_type": "markdown",
   "metadata": {},
   "source": [
    "Miramos los datasets, sus dimensiones, variables y el tipo de variables que hay en cada una. \n",
    "Primero revisamos el dataset de costos marginales reales."
   ]
  },
  {
   "cell_type": "code",
   "execution_count": 8,
   "metadata": {},
   "outputs": [
    {
     "data": {
      "text/plain": [
       "(1292985, 7)"
      ]
     },
     "execution_count": 8,
     "metadata": {},
     "output_type": "execute_result"
    }
   ],
   "source": [
    "c_mreal_sub.shape"
   ]
  },
  {
   "cell_type": "code",
   "execution_count": 9,
   "metadata": {},
   "outputs": [
    {
     "data": {
      "text/plain": [
       "barra_mnemotecnico                object\n",
       "barra_referencia_mnemotecnico     object\n",
       "fecha                             object\n",
       "hora                               int64\n",
       "costo_en_dolares                 float64\n",
       "costo_en_pesos                   float64\n",
       "nombre                            object\n",
       "dtype: object"
      ]
     },
     "execution_count": 9,
     "metadata": {},
     "output_type": "execute_result"
    }
   ],
   "source": [
    "c_mreal_sub.dtypes"
   ]
  },
  {
   "cell_type": "code",
   "execution_count": 10,
   "metadata": {},
   "outputs": [
    {
     "data": {
      "text/plain": [
       "1020"
      ]
     },
     "execution_count": 10,
     "metadata": {},
     "output_type": "execute_result"
    }
   ],
   "source": [
    "len(c_mreal_sub['barra_mnemotecnico'].unique())"
   ]
  },
  {
   "cell_type": "code",
   "execution_count": 11,
   "metadata": {},
   "outputs": [
    {
     "name": "stdout",
     "output_type": "stream",
     "text": [
      "2019-01-01\n",
      "2019-06-30\n"
     ]
    }
   ],
   "source": [
    "print(c_mreal_sub['fecha'].unique().min())\n",
    "print(c_mreal_sub['fecha'].unique().max())"
   ]
  },
  {
   "cell_type": "markdown",
   "metadata": {},
   "source": [
    "En el dataset de costos marginales reales, hay 7 variables, solo las variables 'hora', 'costo_en_dolares' y 'costo_en_pesos' son variables numéricas (las dos últimas con decimales), las demás son de tipo caracter. Cada fila indica el costo marginal para cada barra en una fecha y hora determinadas. En este subconjunto de datos obtenido de forma aleatoria, hay información sobre 1020 barras, entre el 01 de Enero y el 30 de Junio de 2019."
   ]
  },
  {
   "cell_type": "markdown",
   "metadata": {},
   "source": [
    "Revisamos si hay datos duplicados, y vemos que no los hay"
   ]
  },
  {
   "cell_type": "code",
   "execution_count": 12,
   "metadata": {},
   "outputs": [
    {
     "data": {
      "text/plain": [
       "0"
      ]
     },
     "execution_count": 12,
     "metadata": {},
     "output_type": "execute_result"
    }
   ],
   "source": [
    "len(c_mreal_sub[c_mreal_sub.duplicated(['barra_mnemotecnico', 'fecha', 'hora'])])"
   ]
  },
  {
   "cell_type": "markdown",
   "metadata": {},
   "source": [
    "Ahora revisamos el dataset de costos marginales programados."
   ]
  },
  {
   "cell_type": "code",
   "execution_count": 13,
   "metadata": {},
   "outputs": [
    {
     "data": {
      "text/plain": [
       "50681"
      ]
     },
     "execution_count": 13,
     "metadata": {},
     "output_type": "execute_result"
    }
   ],
   "source": [
    "len(c_mprogramado_sub[c_mprogramado_sub.duplicated(['mnemotecnico_barra', 'fecha', 'hora'])])"
   ]
  },
  {
   "cell_type": "code",
   "execution_count": 14,
   "metadata": {},
   "outputs": [
    {
     "data": {
      "text/plain": [
       "array(['-', 'BA83L131SE134L131', 'BA02T003SE004T003', 'BA01T002SE036T002'],\n",
       "      dtype=object)"
      ]
     },
     "execution_count": 14,
     "metadata": {},
     "output_type": "execute_result"
    }
   ],
   "source": [
    "c_mprogramado_sub[c_mprogramado_sub.duplicated(['mnemotecnico_barra', 'fecha', 'hora'])]['mnemotecnico_barra'].unique()"
   ]
  },
  {
   "cell_type": "markdown",
   "metadata": {},
   "source": [
    "Se han detectado 60.681 filas duplicadas (considerando barras que tienen la misma fecha y hora, cada uno con sus costos programados por separado). Lo ideal sería conocer cómo se construyó este conjunto de datos para decidir qué hacer, sin embargo ya que no se cuenta con más información al respecto, por ahora se eliminarán los duplicados. También, se han detectado barras con el nombre '-', es decir que son filas que parecen no tener nombre. Estas también las eliminaremos por ahora, pero nuevamente, lo ideal sería estudiar estos datos anómalos y tomar la decisión con mayor conocimiento de causa."
   ]
  },
  {
   "cell_type": "code",
   "execution_count": 15,
   "metadata": {},
   "outputs": [],
   "source": [
    "c_mprogramado_sub = c_mprogramado_sub.drop_duplicates(['mnemotecnico_barra', 'fecha', 'hora'], keep = 'first')\n",
    "c_mprogramado_sub = c_mprogramado_sub[c_mprogramado_sub.mnemotecnico_barra != '-']"
   ]
  },
  {
   "cell_type": "code",
   "execution_count": 16,
   "metadata": {},
   "outputs": [
    {
     "data": {
      "text/plain": [
       "(302611, 5)"
      ]
     },
     "execution_count": 16,
     "metadata": {},
     "output_type": "execute_result"
    }
   ],
   "source": [
    "c_mprogramado_sub.shape"
   ]
  },
  {
   "cell_type": "code",
   "execution_count": 17,
   "metadata": {},
   "outputs": [
    {
     "data": {
      "text/plain": [
       "mnemotecnico_barra     object\n",
       "nombre_barra           object\n",
       "fecha                  object\n",
       "hora                    int64\n",
       "costo                 float64\n",
       "dtype: object"
      ]
     },
     "execution_count": 17,
     "metadata": {},
     "output_type": "execute_result"
    }
   ],
   "source": [
    "c_mprogramado_sub.dtypes"
   ]
  },
  {
   "cell_type": "code",
   "execution_count": 18,
   "metadata": {},
   "outputs": [
    {
     "data": {
      "text/plain": [
       "238"
      ]
     },
     "execution_count": 18,
     "metadata": {},
     "output_type": "execute_result"
    }
   ],
   "source": [
    "len(c_mprogramado_sub['mnemotecnico_barra'].unique())"
   ]
  },
  {
   "cell_type": "code",
   "execution_count": 19,
   "metadata": {},
   "outputs": [
    {
     "name": "stdout",
     "output_type": "stream",
     "text": [
      "2019-01-01\n",
      "2019-06-30\n"
     ]
    }
   ],
   "source": [
    "print(c_mprogramado_sub['fecha'].unique().min())\n",
    "print(c_mprogramado_sub['fecha'].unique().max())"
   ]
  },
  {
   "cell_type": "markdown",
   "metadata": {},
   "source": [
    "En el dataset de costos marginales progrmados, hay 5 variables. Solo las variables 'hora' y 'costo'  son variables numéricas (la última con decimales), las demás son de tipo caracter. Cada fila indica el costo marginal para cada barra en una fecha y hora determinadas, al igual que en el conjunto de datos de costos marginales reales. Según las instrucciones del desafío el costo está en USD en este datasaet. Finalmente, en este subconjunto de datos obtenido de forma aleatoria, hay información sobre 238 barras, entre el 01 de Enero y el 30 de Junio de 2019."
   ]
  },
  {
   "cell_type": "markdown",
   "metadata": {},
   "source": [
    "#### Merge de datasets\n",
    "\n",
    "Nos damos cuenta a continuación que las horas en ambos datasets van de 1 a 25, lo cual es extraño. En este caso averiguaría con la fuente qué significa el valor 25. Sin embargo, por ahora asumiremos que no es un valor relevante ya que solo hay 23-36 observaciones con ese valor, vs alrededor de 2500-9000 observaciones en los otros valores, respectivamente en cada dataset."
   ]
  },
  {
   "cell_type": "code",
   "execution_count": 20,
   "metadata": {},
   "outputs": [
    {
     "data": {
      "text/plain": [
       "19    54418\n",
       "23    54247\n",
       "24    54173\n",
       "3     54035\n",
       "11    54022\n",
       "15    54017\n",
       "2     54006\n",
       "17    54002\n",
       "6     53926\n",
       "20    53891\n",
       "21    53837\n",
       "16    53803\n",
       "5     53783\n",
       "18    53760\n",
       "8     53748\n",
       "12    53745\n",
       "4     53705\n",
       "10    53705\n",
       "7     53691\n",
       "9     53686\n",
       "1     53670\n",
       "22    53670\n",
       "14    53664\n",
       "13    53494\n",
       "25      287\n",
       "Name: hora, dtype: int64"
      ]
     },
     "execution_count": 20,
     "metadata": {},
     "output_type": "execute_result"
    }
   ],
   "source": [
    "c_mreal_sub['hora'].value_counts()"
   ]
  },
  {
   "cell_type": "code",
   "execution_count": 21,
   "metadata": {},
   "outputs": [
    {
     "data": {
      "text/plain": [
       "9     12748\n",
       "16    12748\n",
       "17    12725\n",
       "21    12694\n",
       "1     12691\n",
       "12    12666\n",
       "18    12650\n",
       "19    12643\n",
       "10    12623\n",
       "4     12613\n",
       "6     12613\n",
       "8     12602\n",
       "22    12597\n",
       "24    12595\n",
       "20    12588\n",
       "3     12571\n",
       "11    12568\n",
       "13    12542\n",
       "5     12536\n",
       "2     12536\n",
       "23    12528\n",
       "15    12524\n",
       "14    12477\n",
       "7     12450\n",
       "25       83\n",
       "Name: hora, dtype: int64"
      ]
     },
     "execution_count": 21,
     "metadata": {},
     "output_type": "execute_result"
    }
   ],
   "source": [
    "c_mprogramado_sub['hora'].value_counts()"
   ]
  },
  {
   "cell_type": "code",
   "execution_count": 22,
   "metadata": {},
   "outputs": [],
   "source": [
    "# Eliminamos los valores 25\n",
    "c_mreal_sub = c_mreal_sub[c_mreal_sub['hora'] != 25]\n",
    "c_mprogramado_sub = c_mprogramado_sub[c_mprogramado_sub['hora'] != 25]"
   ]
  },
  {
   "cell_type": "markdown",
   "metadata": {},
   "source": [
    "Ajustamos el formato de las variables para crear variable de tiempo."
   ]
  },
  {
   "cell_type": "code",
   "execution_count": 23,
   "metadata": {},
   "outputs": [],
   "source": [
    "c_mreal_sub['hora'] = c_mreal_sub['hora'].astype('str') # transformamos a string\n",
    "c_mreal_sub['hora'] = c_mreal_sub['hora'].str.zfill(2) # añadimos 0's para tener formato adecuado para convertir a hora\n",
    "c_mreal_sub['hora'] = c_mreal_sub['hora'].str.replace('24', '00') \n",
    "c_mprogramado_sub['hora'] = c_mprogramado_sub['hora'].astype('str') # transformamos a string\n",
    "c_mprogramado_sub['hora'] = c_mprogramado_sub['hora'].str.zfill(2)# añadimos 0's para tener formato adecuado para convertir a hora\n",
    "c_mprogramado_sub['hora'] = c_mprogramado_sub['hora'].str.replace('24', '00') "
   ]
  },
  {
   "cell_type": "code",
   "execution_count": 24,
   "metadata": {},
   "outputs": [
    {
     "data": {
      "text/plain": [
       "<bound method Series.unique of 158755     01\n",
       "158088     01\n",
       "158716     01\n",
       "158235     01\n",
       "158280     01\n",
       "           ..\n",
       "4286333    00\n",
       "4287118    00\n",
       "4287010    00\n",
       "4286665    00\n",
       "4286596    00\n",
       "Name: hora, Length: 1292698, dtype: object>"
      ]
     },
     "execution_count": 24,
     "metadata": {},
     "output_type": "execute_result"
    }
   ],
   "source": [
    "c_mreal_sub['hora'].unique"
   ]
  },
  {
   "cell_type": "code",
   "execution_count": 25,
   "metadata": {},
   "outputs": [],
   "source": [
    "c_mprogramado_sub.loc[:,'fecha_hora'] = pd.to_datetime(c_mprogramado_sub['fecha'] + ' ' + c_mprogramado_sub['hora'])\n",
    "c_mreal_sub.loc[:,'fecha_hora'] = pd.to_datetime(c_mreal_sub['fecha'] + ' ' + c_mreal_sub['hora'])"
   ]
  },
  {
   "cell_type": "markdown",
   "metadata": {},
   "source": [
    "#### Merge\n",
    "\n",
    "Es necesario hacer el merge por 'fecha_hora' y por barra, ya que los valores dependen de ese par de variables."
   ]
  },
  {
   "cell_type": "code",
   "execution_count": 26,
   "metadata": {},
   "outputs": [
    {
     "data": {
      "text/html": [
       "<div>\n",
       "<style scoped>\n",
       "    .dataframe tbody tr th:only-of-type {\n",
       "        vertical-align: middle;\n",
       "    }\n",
       "\n",
       "    .dataframe tbody tr th {\n",
       "        vertical-align: top;\n",
       "    }\n",
       "\n",
       "    .dataframe thead th {\n",
       "        text-align: right;\n",
       "    }\n",
       "</style>\n",
       "<table border=\"1\" class=\"dataframe\">\n",
       "  <thead>\n",
       "    <tr style=\"text-align: right;\">\n",
       "      <th></th>\n",
       "      <th>barra_mnemotecnico</th>\n",
       "      <th>barra_referencia_mnemotecnico</th>\n",
       "      <th>fecha_x</th>\n",
       "      <th>hora_x</th>\n",
       "      <th>costo_en_dolares</th>\n",
       "      <th>costo_en_pesos</th>\n",
       "      <th>nombre</th>\n",
       "      <th>fecha_hora</th>\n",
       "      <th>mnemotecnico_barra</th>\n",
       "      <th>nombre_barra</th>\n",
       "      <th>fecha_y</th>\n",
       "      <th>hora_y</th>\n",
       "      <th>costo</th>\n",
       "    </tr>\n",
       "  </thead>\n",
       "  <tbody>\n",
       "    <tr>\n",
       "      <th>0</th>\n",
       "      <td>BA01R003SE021R003</td>\n",
       "      <td>BA02T002SE032T002</td>\n",
       "      <td>2019-01-01</td>\n",
       "      <td>00</td>\n",
       "      <td>51.45</td>\n",
       "      <td>35.79325</td>\n",
       "      <td>BA S/E LAS VEGAS (CHILQUINTA) HBP1</td>\n",
       "      <td>2019-01-01</td>\n",
       "      <td>NaN</td>\n",
       "      <td>NaN</td>\n",
       "      <td>NaN</td>\n",
       "      <td>NaN</td>\n",
       "      <td>NaN</td>\n",
       "    </tr>\n",
       "    <tr>\n",
       "      <th>1</th>\n",
       "      <td>BA01R002SE048R002</td>\n",
       "      <td>BA02T002SE032T002</td>\n",
       "      <td>2019-01-01</td>\n",
       "      <td>00</td>\n",
       "      <td>51.83</td>\n",
       "      <td>36.05761</td>\n",
       "      <td>BA S/E SANTA ROSA SUR 110KV BP1</td>\n",
       "      <td>2019-01-01</td>\n",
       "      <td>NaN</td>\n",
       "      <td>NaN</td>\n",
       "      <td>NaN</td>\n",
       "      <td>NaN</td>\n",
       "      <td>NaN</td>\n",
       "    </tr>\n",
       "    <tr>\n",
       "      <th>2</th>\n",
       "      <td>BA01R003SE013R003</td>\n",
       "      <td>BA02T002SE032T002</td>\n",
       "      <td>2019-01-01</td>\n",
       "      <td>00</td>\n",
       "      <td>51.48</td>\n",
       "      <td>35.81412</td>\n",
       "      <td>BA S/E MIRAFLORES BARRA 110KV BP1</td>\n",
       "      <td>2019-01-01</td>\n",
       "      <td>BA01R003SE013R003</td>\n",
       "      <td>BA S/E MIRAFLORES BARRA 110KV BP1</td>\n",
       "      <td>2019-01-01</td>\n",
       "      <td>00</td>\n",
       "      <td>50.666147</td>\n",
       "    </tr>\n",
       "    <tr>\n",
       "      <th>3</th>\n",
       "      <td>BA03R002SE088R002</td>\n",
       "      <td>BA02T002SE032T002</td>\n",
       "      <td>2019-01-01</td>\n",
       "      <td>00</td>\n",
       "      <td>53.41</td>\n",
       "      <td>37.15680</td>\n",
       "      <td>BA S/E RUNGUE 23KV BP1</td>\n",
       "      <td>2019-01-01</td>\n",
       "      <td>NaN</td>\n",
       "      <td>NaN</td>\n",
       "      <td>NaN</td>\n",
       "      <td>NaN</td>\n",
       "      <td>NaN</td>\n",
       "    </tr>\n",
       "    <tr>\n",
       "      <th>4</th>\n",
       "      <td>BA02R003SE001R003</td>\n",
       "      <td>BA02T002SE032T002</td>\n",
       "      <td>2019-01-01</td>\n",
       "      <td>00</td>\n",
       "      <td>51.46</td>\n",
       "      <td>35.80021</td>\n",
       "      <td>BA S/E AGUA SANTA BARRA 110KV N° 1</td>\n",
       "      <td>2019-01-01</td>\n",
       "      <td>BA02R003SE001R003</td>\n",
       "      <td>BA S/E AGUA SANTA BARRA 110KV N° 1</td>\n",
       "      <td>2019-01-01</td>\n",
       "      <td>00</td>\n",
       "      <td>50.701054</td>\n",
       "    </tr>\n",
       "  </tbody>\n",
       "</table>\n",
       "</div>"
      ],
      "text/plain": [
       "  barra_mnemotecnico barra_referencia_mnemotecnico     fecha_x hora_x  \\\n",
       "0  BA01R003SE021R003             BA02T002SE032T002  2019-01-01     00   \n",
       "1  BA01R002SE048R002             BA02T002SE032T002  2019-01-01     00   \n",
       "2  BA01R003SE013R003             BA02T002SE032T002  2019-01-01     00   \n",
       "3  BA03R002SE088R002             BA02T002SE032T002  2019-01-01     00   \n",
       "4  BA02R003SE001R003             BA02T002SE032T002  2019-01-01     00   \n",
       "\n",
       "   costo_en_dolares  costo_en_pesos                              nombre  \\\n",
       "0             51.45        35.79325  BA S/E LAS VEGAS (CHILQUINTA) HBP1   \n",
       "1             51.83        36.05761     BA S/E SANTA ROSA SUR 110KV BP1   \n",
       "2             51.48        35.81412   BA S/E MIRAFLORES BARRA 110KV BP1   \n",
       "3             53.41        37.15680              BA S/E RUNGUE 23KV BP1   \n",
       "4             51.46        35.80021  BA S/E AGUA SANTA BARRA 110KV N° 1   \n",
       "\n",
       "  fecha_hora mnemotecnico_barra                        nombre_barra  \\\n",
       "0 2019-01-01                NaN                                 NaN   \n",
       "1 2019-01-01                NaN                                 NaN   \n",
       "2 2019-01-01  BA01R003SE013R003   BA S/E MIRAFLORES BARRA 110KV BP1   \n",
       "3 2019-01-01                NaN                                 NaN   \n",
       "4 2019-01-01  BA02R003SE001R003  BA S/E AGUA SANTA BARRA 110KV N° 1   \n",
       "\n",
       "      fecha_y hora_y      costo  \n",
       "0         NaN    NaN        NaN  \n",
       "1         NaN    NaN        NaN  \n",
       "2  2019-01-01     00  50.666147  \n",
       "3         NaN    NaN        NaN  \n",
       "4  2019-01-01     00  50.701054  "
      ]
     },
     "execution_count": 26,
     "metadata": {},
     "output_type": "execute_result"
    }
   ],
   "source": [
    "costo_marginal = pd.merge_asof(c_mreal_sub.sort_values('fecha_hora'), c_mprogramado_sub.sort_values('fecha_hora'),\n",
    "              on=['fecha_hora'],\n",
    "              left_by='barra_mnemotecnico',\n",
    "             right_by = 'mnemotecnico_barra')\n",
    "\n",
    "costo_marginal.head()"
   ]
  },
  {
   "cell_type": "code",
   "execution_count": 27,
   "metadata": {},
   "outputs": [],
   "source": [
    "costo_marginal= costo_marginal.drop(['fecha_x', 'fecha_y', 'hora_x', 'hora_y', 'mnemotecnico_barra', 'nombre_barra', 'barra_referencia_mnemotecnico', 'nombre'], axis = 1)\n",
    "costo_marginal.rename(columns = {'costo':'costo_prog'}, inplace = True)"
   ]
  },
  {
   "cell_type": "code",
   "execution_count": 28,
   "metadata": {},
   "outputs": [
    {
     "data": {
      "text/plain": [
       "(1292698, 5)"
      ]
     },
     "execution_count": 28,
     "metadata": {},
     "output_type": "execute_result"
    }
   ],
   "source": [
    "costo_marginal.shape"
   ]
  },
  {
   "cell_type": "code",
   "execution_count": 29,
   "metadata": {},
   "outputs": [
    {
     "data": {
      "text/html": [
       "<div>\n",
       "<style scoped>\n",
       "    .dataframe tbody tr th:only-of-type {\n",
       "        vertical-align: middle;\n",
       "    }\n",
       "\n",
       "    .dataframe tbody tr th {\n",
       "        vertical-align: top;\n",
       "    }\n",
       "\n",
       "    .dataframe thead th {\n",
       "        text-align: right;\n",
       "    }\n",
       "</style>\n",
       "<table border=\"1\" class=\"dataframe\">\n",
       "  <thead>\n",
       "    <tr style=\"text-align: right;\">\n",
       "      <th></th>\n",
       "      <th>barra_mnemotecnico</th>\n",
       "      <th>costo_en_dolares</th>\n",
       "      <th>costo_en_pesos</th>\n",
       "      <th>fecha_hora</th>\n",
       "      <th>costo_prog</th>\n",
       "    </tr>\n",
       "  </thead>\n",
       "  <tbody>\n",
       "    <tr>\n",
       "      <th>0</th>\n",
       "      <td>BA01R003SE021R003</td>\n",
       "      <td>51.45</td>\n",
       "      <td>35.79325</td>\n",
       "      <td>2019-01-01</td>\n",
       "      <td>NaN</td>\n",
       "    </tr>\n",
       "    <tr>\n",
       "      <th>1</th>\n",
       "      <td>BA01R002SE048R002</td>\n",
       "      <td>51.83</td>\n",
       "      <td>36.05761</td>\n",
       "      <td>2019-01-01</td>\n",
       "      <td>NaN</td>\n",
       "    </tr>\n",
       "    <tr>\n",
       "      <th>2</th>\n",
       "      <td>BA01R003SE013R003</td>\n",
       "      <td>51.48</td>\n",
       "      <td>35.81412</td>\n",
       "      <td>2019-01-01</td>\n",
       "      <td>50.666147</td>\n",
       "    </tr>\n",
       "    <tr>\n",
       "      <th>3</th>\n",
       "      <td>BA03R002SE088R002</td>\n",
       "      <td>53.41</td>\n",
       "      <td>37.15680</td>\n",
       "      <td>2019-01-01</td>\n",
       "      <td>NaN</td>\n",
       "    </tr>\n",
       "    <tr>\n",
       "      <th>4</th>\n",
       "      <td>BA02R003SE001R003</td>\n",
       "      <td>51.46</td>\n",
       "      <td>35.80021</td>\n",
       "      <td>2019-01-01</td>\n",
       "      <td>50.701054</td>\n",
       "    </tr>\n",
       "  </tbody>\n",
       "</table>\n",
       "</div>"
      ],
      "text/plain": [
       "  barra_mnemotecnico  costo_en_dolares  costo_en_pesos fecha_hora  costo_prog\n",
       "0  BA01R003SE021R003             51.45        35.79325 2019-01-01         NaN\n",
       "1  BA01R002SE048R002             51.83        36.05761 2019-01-01         NaN\n",
       "2  BA01R003SE013R003             51.48        35.81412 2019-01-01   50.666147\n",
       "3  BA03R002SE088R002             53.41        37.15680 2019-01-01         NaN\n",
       "4  BA02R003SE001R003             51.46        35.80021 2019-01-01   50.701054"
      ]
     },
     "execution_count": 29,
     "metadata": {},
     "output_type": "execute_result"
    }
   ],
   "source": [
    "costo_marginal.head()"
   ]
  },
  {
   "cell_type": "code",
   "execution_count": 30,
   "metadata": {},
   "outputs": [
    {
     "data": {
      "text/plain": [
       "barra_mnemotecnico            object\n",
       "costo_en_dolares             float64\n",
       "costo_en_pesos               float64\n",
       "fecha_hora            datetime64[ns]\n",
       "costo_prog                   float64\n",
       "dtype: object"
      ]
     },
     "execution_count": 30,
     "metadata": {},
     "output_type": "execute_result"
    }
   ],
   "source": [
    "costo_marginal.dtypes"
   ]
  },
  {
   "cell_type": "markdown",
   "metadata": {},
   "source": [
    "#### Análisis exploratorio\n",
    "\n",
    "Vemos algunos descriptivos de nuestras variables principales primero, y luego algunos gráficos para observar si hay variaciones en los valores de las variables a lo largo del tiempo."
   ]
  },
  {
   "cell_type": "code",
   "execution_count": 31,
   "metadata": {},
   "outputs": [
    {
     "name": "stdout",
     "output_type": "stream",
     "text": [
      "Costo real en dolares: \n",
      " count    1.292698e+06\n",
      "mean     6.370322e+01\n",
      "std      2.795049e+01\n",
      "min      0.000000e+00\n",
      "25%      5.064000e+01\n",
      "50%      5.609000e+01\n",
      "75%      6.591000e+01\n",
      "max      1.109970e+03\n",
      "Name: costo_en_dolares, dtype: float64 \n",
      "\n",
      "Costo programado en dolares: \n",
      " count    278870.000000\n",
      "mean         61.569225\n",
      "std          23.708849\n",
      "min         -12.109226\n",
      "25%          49.862932\n",
      "50%          54.718697\n",
      "75%          63.751521\n",
      "max         610.600000\n",
      "Name: costo_prog, dtype: float64 \n",
      "\n"
     ]
    }
   ],
   "source": [
    "print('Costo real en dolares:', '\\n', costo_marginal['costo_en_dolares'].describe(), '\\n')\n",
    "print('Costo programado en dolares:', '\\n', costo_marginal['costo_prog'].describe(), '\\n')"
   ]
  },
  {
   "cell_type": "code",
   "execution_count": 32,
   "metadata": {},
   "outputs": [],
   "source": [
    "import seaborn as sns\n",
    "import matplotlib.pyplot as plt"
   ]
  },
  {
   "cell_type": "markdown",
   "metadata": {},
   "source": [
    "A partir de los gráficos siguientes, en el primero se observa que tanto los costos marginales reales como los programados tienen una distribución similar a lo largo del tiempo, sin embargo también se ve que no hay equivalencia exacta entre ambas. En el segundo gráfico, se observan diferentes 'frecuencias', es decir que hay variaciones que parecen ocurrir al nivel mínimo de tiempo, dependiendo de la hora, otras variaciones ocurren por día, y otras por mes. A partir del análisis es posible sospechar que exista estacionalidad, sin embargo no parece haber una tendencia."
   ]
  },
  {
   "cell_type": "code",
   "execution_count": 33,
   "metadata": {},
   "outputs": [
    {
     "data": {
      "image/png": "[encoded data removed]",
      "text/plain": [
       "<Figure size 720x576 with 1 Axes>"
      ]
     },
     "metadata": {
      "needs_background": "light"
     },
     "output_type": "display_data"
    }
   ],
   "source": [
    "plt.figure(figsize=(10, 8))\n",
    "plt.plot(costo_marginal['fecha_hora'], costo_marginal['costo_en_dolares'], 'b-', label = 'Real', alpha = 0.7)\n",
    "plt.plot(costo_marginal['fecha_hora'], costo_marginal['costo_prog'], 'r-', label = 'Programado', alpha = 0.7)\n",
    "plt.xlabel('fecha_hora'); plt.ylabel('Market Cap (Billions $)'); plt.title('Market Cap of GM and Tesla')\n",
    "plt.legend();"
   ]
  },
  {
   "cell_type": "code",
   "execution_count": 34,
   "metadata": {},
   "outputs": [
    {
     "data": {
      "image/png": "[encoded data removed]",
      "text/plain": [
       "<Figure size 864x720 with 2 Axes>"
      ]
     },
     "metadata": {
      "needs_background": "light"
     },
     "output_type": "display_data"
    }
   ],
   "source": [
    "costos_plot = costo_marginal.set_index('fecha_hora')\n",
    "costos_plot = costos_plot.drop(['costo_en_pesos'], axis = 1)\n",
    "costos_plot = costos_plot.select_dtypes(include=['float64', 'int64'])\n",
    "fig,ax = plt.subplots(2,1,figsize=(12,10))\n",
    "for i,column in enumerate(costos_plot):\n",
    "    costos_plot[column].plot(ax=ax[i])\n",
    "    ax[i].set_title(column)"
   ]
  },
  {
   "cell_type": "code",
   "execution_count": 35,
   "metadata": {},
   "outputs": [],
   "source": [
    "# Tomamos el total de valores unicos de barras en el data frame y calculamos el porcentaje de \n",
    "barras_prog = len(costo_marginal[costo_marginal['costo_prog'].notna()]['barra_mnemotecnico'].unique())\n",
    "barras_tot = len(costo_marginal['barra_mnemotecnico'].unique())"
   ]
  },
  {
   "cell_type": "code",
   "execution_count": 36,
   "metadata": {},
   "outputs": [
    {
     "name": "stdout",
     "output_type": "stream",
     "text": [
      "El total de barras evaluadas es de 1020\n",
      "Mientras que el costo se programa para  220 de ese total\n"
     ]
    }
   ],
   "source": [
    "print('El total de barras evaluadas es de', barras_tot)\n",
    "print('Mientras que el costo se programa para ', barras_prog, 'de ese total')"
   ]
  },
  {
   "cell_type": "code",
   "execution_count": 37,
   "metadata": {},
   "outputs": [
    {
     "name": "stdout",
     "output_type": "stream",
     "text": [
      "El porcentaje de barras programadas es de un 21.57 %\n",
      " del total de barras evaluadas\n"
     ]
    }
   ],
   "source": [
    "print('El porcentaje de barras programadas es de un %s %%\\n' % round((barras_prog * 100/ barras_tot), 2), 'del total de barras evaluadas')"
   ]
  },
  {
   "cell_type": "markdown",
   "metadata": {},
   "source": [
    "Ya que solo el 21.57% del total de barras tiene un costo marginal programado, para la siguientes fases solo consideraremos las barras para las que se les calculó el costo marginal programado, solo así podremos tener una idea de la efectividad y precisión del valor programado."
   ]
  },
  {
   "cell_type": "code",
   "execution_count": 38,
   "metadata": {},
   "outputs": [],
   "source": [
    "costo_marginal = costo_marginal.dropna(subset=['barra_mnemotecnico', 'costo_prog'])"
   ]
  },
  {
   "cell_type": "code",
   "execution_count": 39,
   "metadata": {},
   "outputs": [
    {
     "data": {
      "text/plain": [
       "(278870, 5)"
      ]
     },
     "execution_count": 39,
     "metadata": {},
     "output_type": "execute_result"
    }
   ],
   "source": [
    "costo_marginal.shape"
   ]
  },
  {
   "cell_type": "code",
   "execution_count": 40,
   "metadata": {},
   "outputs": [
    {
     "data": {
      "text/plain": [
       "220"
      ]
     },
     "execution_count": 40,
     "metadata": {},
     "output_type": "execute_result"
    }
   ],
   "source": [
    "len(costo_marginal['barra_mnemotecnico'].unique())"
   ]
  },
  {
   "cell_type": "markdown",
   "metadata": {},
   "source": [
    "### 2. Construcción de variables\n",
    "\n",
    "\n",
    "- Construye las siguientes variables para la base que creaste en el punto anterior:\n",
    "    * desviacion: la diferencia entre el costo real y el costo programado\n",
    "    * desviacion_pct: la misma desviación, pero en porcentaje\n",
    "    * desviacion_cat: una variable categórica que vale 1si la desviación_pct absoluta es mayor a 15% (esto es, si es menor a -15% o mayor a 15%)\n",
    "- Describe la variable desviacion_cat . Qué puedes observar? Cambia a través del tiempo?"
   ]
  },
  {
   "cell_type": "markdown",
   "metadata": {},
   "source": [
    "Al crear la nueva variable 'desviacion_pct' aparecen valores infinitos, que provienen de cuando el costo en dolares de una barra en cierto momento del tiempo es igual a 0, habiendo un costo programado para dicha barra en ese momento. De esta forma, reemplazaremos los valores 0.00 en la variable 'costo_en_dolares' por 0.01. De esta forma evitamos los valores 'inf', mantienendo la interpretabilidad de la desviación entre el costo en dolares y el programado. "
   ]
  },
  {
   "cell_type": "code",
   "execution_count": 41,
   "metadata": {},
   "outputs": [],
   "source": [
    "import numpy as np # para sacar valores absolutos\n",
    "\n",
    "costo_marginal['costo_en_dolares'] = costo_marginal['costo_en_dolares'].replace(0.00, 0.01)\n",
    "\n",
    "costo_marginal['desviacion'] = costo_marginal['costo_en_dolares'] - costo_marginal['costo_prog']\n",
    "costo_marginal['desviacion_pct'] = (costo_marginal['desviacion'] / costo_marginal['costo_prog']) * 100\n",
    "costo_marginal['desviacion_cat'] = 0\n",
    "costo_marginal.loc[np.abs(costo_marginal['desviacion_pct']) > 15, 'desviacion_cat'] = 1"
   ]
  },
  {
   "cell_type": "code",
   "execution_count": 42,
   "metadata": {},
   "outputs": [],
   "source": [
    "costo_marginal['desviacion_cat'] = costo_marginal['desviacion_cat'].astype('category')"
   ]
  },
  {
   "cell_type": "markdown",
   "metadata": {},
   "source": [
    "Al observar el balance de las categorías desvío vs no desvío, vemos que hay un claro desbalance con el cual habrá que lidiar posteriormente para ajustar los modelos de machine learning."
   ]
  },
  {
   "cell_type": "code",
   "execution_count": 43,
   "metadata": {},
   "outputs": [
    {
     "data": {
      "text/plain": [
       "<matplotlib.axes._subplots.AxesSubplot at 0x7fa060e9db00>"
      ]
     },
     "execution_count": 43,
     "metadata": {},
     "output_type": "execute_result"
    },
    {
     "data": {
      "image/png": "[encoded data removed]",
      "text/plain": [
       "<Figure size 432x288 with 1 Axes>"
      ]
     },
     "metadata": {
      "needs_background": "light"
     },
     "output_type": "display_data"
    }
   ],
   "source": [
    "sns.countplot(x=\"desviacion_cat\", data=costo_marginal)"
   ]
  },
  {
   "cell_type": "markdown",
   "metadata": {},
   "source": [
    "Ahora miraremos la distribución desvíos vs no desvío dependiendo de la hora, el día y el mes, para ver si hay diferencias condicionadas a dichas variables"
   ]
  },
  {
   "cell_type": "code",
   "execution_count": 44,
   "metadata": {},
   "outputs": [],
   "source": [
    "costo_marginal['month'] = pd.DatetimeIndex(costo_marginal['fecha_hora']).month\n",
    "costo_marginal['day'] = pd.DatetimeIndex(costo_marginal['fecha_hora']).day\n",
    "costo_marginal['hour'] = pd.DatetimeIndex(costo_marginal['fecha_hora']).hour"
   ]
  },
  {
   "cell_type": "code",
   "execution_count": 45,
   "metadata": {},
   "outputs": [
    {
     "data": {
      "text/plain": [
       "<seaborn.axisgrid.FacetGrid at 0x7fa060e8db38>"
      ]
     },
     "execution_count": 45,
     "metadata": {},
     "output_type": "execute_result"
    },
    {
     "data": {
      "image/png": "[encoded data removed]",
      "text/plain": [
       "<Figure size 384.275x432 with 1 Axes>"
      ]
     },
     "metadata": {
      "needs_background": "light"
     },
     "output_type": "display_data"
    }
   ],
   "source": [
    "grouped_month = costo_marginal[['month', 'desviacion_cat']].groupby(['month', 'desviacion_cat']).size()\n",
    "grouped_month = pd.DataFrame(grouped_month)\n",
    "grouped_month.index.name = 'month'\n",
    "grouped_month.reset_index(inplace=True)\n",
    "grouped_month.columns = grouped_month.columns.astype(str)\n",
    "grouped_month = grouped_month.rename(columns = {'month':'month', 'desviacion_cat':'desviacion_cat', '0':'count'}, inplace = False)\n",
    "sns.catplot(x=\"month\", y='count',\n",
    "                hue=\"desviacion_cat\",\n",
    "                data=grouped_month, kind=\"bar\",\n",
    "                height=6, aspect=.7)"
   ]
  },
  {
   "cell_type": "code",
   "execution_count": 46,
   "metadata": {},
   "outputs": [
    {
     "data": {
      "text/plain": [
       "<seaborn.axisgrid.FacetGrid at 0x7fa060d6f0b8>"
      ]
     },
     "execution_count": 46,
     "metadata": {},
     "output_type": "execute_result"
    },
    {
     "data": {
      "image/png": "[encoded data removed]",
      "text/plain": [
       "<Figure size 816.275x432 with 1 Axes>"
      ]
     },
     "metadata": {
      "needs_background": "light"
     },
     "output_type": "display_data"
    }
   ],
   "source": [
    "grouped_day = costo_marginal[['day', 'desviacion_cat']].groupby(['day', 'desviacion_cat']).size()\n",
    "grouped_day = pd.DataFrame(grouped_day)\n",
    "grouped_day.index.name = 'day'\n",
    "grouped_day.reset_index(inplace=True)\n",
    "grouped_day.columns = grouped_day.columns.astype(str)\n",
    "grouped_day = grouped_day.rename(columns = {'day':'day', 'desviacion_cat':'desviacion_cat', '0':'count'}, inplace = False)\n",
    "sns.catplot(x=\"day\", y='count',\n",
    "                hue=\"desviacion_cat\",\n",
    "                data=grouped_day, kind=\"bar\",\n",
    "                height=6, aspect=1.7)"
   ]
  },
  {
   "cell_type": "code",
   "execution_count": 47,
   "metadata": {},
   "outputs": [
    {
     "data": {
      "text/plain": [
       "<seaborn.axisgrid.FacetGrid at 0x7fa060b9dfd0>"
      ]
     },
     "execution_count": 47,
     "metadata": {},
     "output_type": "execute_result"
    },
    {
     "data": {
      "image/png": "[encoded data removed]",
      "text/plain": [
       "<Figure size 600.275x432 with 1 Axes>"
      ]
     },
     "metadata": {
      "needs_background": "light"
     },
     "output_type": "display_data"
    }
   ],
   "source": [
    "grouped_hour = costo_marginal[['hour', 'desviacion_cat']].groupby(['hour', 'desviacion_cat']).size()\n",
    "grouped_hour = pd.DataFrame(grouped_hour)\n",
    "grouped_hour.index.name = 'month'\n",
    "grouped_hour.reset_index(inplace=True)\n",
    "grouped_hour.columns = grouped_hour.columns.astype(str)\n",
    "grouped_hour = grouped_hour.rename(columns = {'hour':'hour', 'desviacion_cat':'desviacion_cat', '0':'count'}, inplace = False)\n",
    "sns.catplot(x=\"hour\", y='count',\n",
    "                hue=\"desviacion_cat\",\n",
    "                data=grouped_hour, kind=\"bar\",\n",
    "                height=6, aspect=1.2)"
   ]
  },
  {
   "cell_type": "markdown",
   "metadata": {},
   "source": [
    "Vemos que a través de los meses parece haber una tendencia a la baja de las desviaciones hacia junio. Sin embargo como solo tenemos cada mes una sola vez, no podemos ver si es un patrón que se repita anualmente o no. En cuanto a la variabilidad a través de los días del mes, las barras presentan una proporción menor de desviaciones en la primera quincena que en la segunda. Finalmente, vemos que por horas hay una mayor cantidad de desviaciones en las horas de la noche, entre 21:00 y 02:00 hrs y luego entre las 9:00 y las 10.00 hrs."
   ]
  },
  {
   "cell_type": "markdown",
   "metadata": {},
   "source": [
    "### 3. Visualización de datos\n",
    "\n",
    "\n",
    "- Crea la siguiente función: def time_plot_costo_barra(codigo_barra, fecha_inicial, fecha_final): que tome como input el código de una barra y haga un plot en el tiempo del costo marginal real y del costo marginal programado. El eje x debe ser el tiempo. fecha_inicial y fecha_final_ dan los límites de este plot. Úsa esta función para plotear algunas barras\n",
    "- Qué puedes concluir de estos plots?\n",
    "- Además, identifica la barra que tiene cmg_real= 0 durante todos los días y elimínala de tu dataset."
   ]
  },
  {
   "cell_type": "code",
   "execution_count": 48,
   "metadata": {},
   "outputs": [
    {
     "data": {
      "text/plain": [
       "array(['BA01R003SE013R003', 'BA02R003SE001R003', 'BA01T002SE030T002',\n",
       "       'BA21L120SE114L120', 'BA01T002SE056T002', 'BA02T005SE081T005',\n",
       "       'BA69T005SE281T005', 'BA03T002SE014T002', 'BA69L140SE129L140',\n",
       "       'BA01G004SE035G004'], dtype=object)"
      ]
     },
     "execution_count": 48,
     "metadata": {},
     "output_type": "execute_result"
    }
   ],
   "source": [
    "costo_marginal['barra_mnemotecnico'].unique()[0:10]"
   ]
  },
  {
   "cell_type": "code",
   "execution_count": 49,
   "metadata": {},
   "outputs": [],
   "source": [
    "from matplotlib import dates\n",
    "def time_plot_costo_barra(codigo_barra, fecha_inicial, fecha_final):\n",
    "    df = costo_marginal[(costo_marginal.barra_mnemotecnico == codigo_barra) & (costo_marginal.fecha_hora >= fecha_inicial) & (costo_marginal.fecha_hora <= fecha_final)]\n",
    "    df_melt = pd.melt(df, id_vars = ['fecha_hora', 'barra_mnemotecnico'], value_vars = ['costo_en_dolares', 'costo_prog'])\n",
    "    fig, ax = plt.subplots()\n",
    "    p = sns.lineplot(x=\"fecha_hora\", y=\"value\",\n",
    "             hue=\"variable\",\n",
    "             data=df_melt)\n",
    "    ax.xaxis.set_major_formatter(dates.DateFormatter(\"%d-%m\"))\n",
    "    plt.xticks(rotation=45)\n",
    "    return p"
   ]
  },
  {
   "cell_type": "code",
   "execution_count": 50,
   "metadata": {},
   "outputs": [
    {
     "data": {
      "text/plain": [
       "<matplotlib.axes._subplots.AxesSubplot at 0x7fa060b58828>"
      ]
     },
     "execution_count": 50,
     "metadata": {},
     "output_type": "execute_result"
    },
    {
     "data": {
      "image/png": "[encoded data removed]",
      "text/plain": [
       "<Figure size 432x288 with 1 Axes>"
      ]
     },
     "metadata": {
      "needs_background": "light"
     },
     "output_type": "display_data"
    }
   ],
   "source": [
    "time_plot_costo_barra('BA69L140SE129L140', '2019-01-01', '2019-05-03')"
   ]
  },
  {
   "cell_type": "markdown",
   "metadata": {},
   "source": [
    "Al plotear varias barras, vemos que las diferencias en el costo real vs el costo programado no es igual en todas. Hay algunas que presentan desviaciones más pequeñas que otras, y algunas que presentan desviaciones con menor frecuencia que otras y en diferentes puntos del tiempo. Así, es posible que la barra sea una factor relevante para predecir la desviación."
   ]
  },
  {
   "cell_type": "markdown",
   "metadata": {},
   "source": [
    "Obtenemos la barra con costo real de 0.00 a lo largo del tiempo agrupando los datos por barra, y el que sume 0 en la columna 'costo_en_pesos' es la barra a eliminar (ya que alteramos los valores de costo_en_dolares para evitar los valores infinitos)"
   ]
  },
  {
   "cell_type": "code",
   "execution_count": 51,
   "metadata": {},
   "outputs": [
    {
     "data": {
      "text/html": [
       "<div>\n",
       "<style scoped>\n",
       "    .dataframe tbody tr th:only-of-type {\n",
       "        vertical-align: middle;\n",
       "    }\n",
       "\n",
       "    .dataframe tbody tr th {\n",
       "        vertical-align: top;\n",
       "    }\n",
       "\n",
       "    .dataframe thead th {\n",
       "        text-align: right;\n",
       "    }\n",
       "</style>\n",
       "<table border=\"1\" class=\"dataframe\">\n",
       "  <thead>\n",
       "    <tr style=\"text-align: right;\">\n",
       "      <th></th>\n",
       "      <th>barra_mnemotecnico</th>\n",
       "      <th>costo_en_dolares</th>\n",
       "      <th>costo_en_pesos</th>\n",
       "      <th>costo_prog</th>\n",
       "      <th>desviacion</th>\n",
       "      <th>desviacion_pct</th>\n",
       "      <th>month</th>\n",
       "      <th>day</th>\n",
       "      <th>hour</th>\n",
       "    </tr>\n",
       "  </thead>\n",
       "  <tbody>\n",
       "    <tr>\n",
       "      <th>11</th>\n",
       "      <td>BA01G049SE001G049</td>\n",
       "      <td>12.89</td>\n",
       "      <td>0.00000</td>\n",
       "      <td>76354.809150</td>\n",
       "      <td>-76341.919150</td>\n",
       "      <td>-128877.363030</td>\n",
       "      <td>4496</td>\n",
       "      <td>20364</td>\n",
       "      <td>14822</td>\n",
       "    </tr>\n",
       "    <tr>\n",
       "      <th>81</th>\n",
       "      <td>BA01T005SE284T005</td>\n",
       "      <td>26295.24</td>\n",
       "      <td>17566.54460</td>\n",
       "      <td>41515.103486</td>\n",
       "      <td>-15219.863486</td>\n",
       "      <td>-23472.607885</td>\n",
       "      <td>1330</td>\n",
       "      <td>10347</td>\n",
       "      <td>7616</td>\n",
       "    </tr>\n",
       "    <tr>\n",
       "      <th>171</th>\n",
       "      <td>BA36T027SE067G216</td>\n",
       "      <td>31909.57</td>\n",
       "      <td>21312.01963</td>\n",
       "      <td>39753.716171</td>\n",
       "      <td>-7844.146170</td>\n",
       "      <td>-8573.964111</td>\n",
       "      <td>1257</td>\n",
       "      <td>9632</td>\n",
       "      <td>7308</td>\n",
       "    </tr>\n",
       "  </tbody>\n",
       "</table>\n",
       "</div>"
      ],
      "text/plain": [
       "    barra_mnemotecnico  costo_en_dolares  costo_en_pesos    costo_prog  \\\n",
       "11   BA01G049SE001G049             12.89         0.00000  76354.809150   \n",
       "81   BA01T005SE284T005          26295.24     17566.54460  41515.103486   \n",
       "171  BA36T027SE067G216          31909.57     21312.01963  39753.716171   \n",
       "\n",
       "       desviacion  desviacion_pct  month    day   hour  \n",
       "11  -76341.919150  -128877.363030   4496  20364  14822  \n",
       "81  -15219.863486   -23472.607885   1330  10347   7616  \n",
       "171  -7844.146170    -8573.964111   1257   9632   7308  "
      ]
     },
     "execution_count": 51,
     "metadata": {},
     "output_type": "execute_result"
    }
   ],
   "source": [
    "costo_marginal.groupby('barra_mnemotecnico', as_index=False).sum().sort_values('costo_en_pesos').iloc[0:3,:]"
   ]
  },
  {
   "cell_type": "code",
   "execution_count": 52,
   "metadata": {},
   "outputs": [],
   "source": [
    "costo_marginal = costo_marginal[costo_marginal.barra_mnemotecnico != 'BA01G049SE001G049']"
   ]
  },
  {
   "cell_type": "markdown",
   "metadata": {},
   "source": [
    "### 4. Base para los modelos\n",
    "\n",
    "\n",
    "- Carga la base base_para_predicción.csv. Esta será la base principal para las siguientes preguntas.\n",
    "- En rasgos generales, ¿Qué puedes decir de los datos? (dimensiones, tipo de datos, variables categóricas, variables numéricas, fechas).\n",
    "- A partir de la variable fecha, crea nuevas variables para el año, mes, semana del año, dia del calendario, dia de la semana y una variable que indique si el dia corresponde a un día de semana o fin de semana. Estas features/variables te servirán para entrenar el modelo.\n",
    "- Implementa una función que para una subestación y una variable, grafique múltiples series de tiempo diarias correspondientes a una lista de fechas. Para esto, la función debe recibir como argumentos: código de una subestación, una variable (serie numérica), y una lista de fechas (año-mes-día). Por ejemplo: para la subestación SE005T002 y la variable gen_solar_total_mwh, la función debe graficar los perfiles diarios de generación solar por hora para las fechas '2019-01-10', '2019-02-10' y '2019-03-10'.\n",
    "- Grafica la curva de generación solar, por hora, en la subestación SE005T002 para las fechas del 10, 11, 12, 13 y 14 de enero de 2019. Haz lo mismo para la subestación SE127T005. Que podrías decir, en términos generales, sobre la generación solar y las dos subestaciones mencionadas, basados en estos dos gráficos?\n",
    "- Grafica la curva de generación térmica, por hora, en la subestación SE020G213 para los días 14, 15, 16 y 17 de mayo de 2019. Haz lo mismo para la subestación SE106G216. Que podrías decir, en términos generales, sobre la generación térmica en esta subestación con respecto a este gráfico?"
   ]
  },
  {
   "cell_type": "code",
   "execution_count": 53,
   "metadata": {},
   "outputs": [],
   "source": [
    "df_pred = pd.read_csv(\"data/base_para_prediccion.csv\")"
   ]
  },
  {
   "cell_type": "code",
   "execution_count": 54,
   "metadata": {},
   "outputs": [
    {
     "data": {
      "text/html": [
       "<div>\n",
       "<style scoped>\n",
       "    .dataframe tbody tr th:only-of-type {\n",
       "        vertical-align: middle;\n",
       "    }\n",
       "\n",
       "    .dataframe tbody tr th {\n",
       "        vertical-align: top;\n",
       "    }\n",
       "\n",
       "    .dataframe thead th {\n",
       "        text-align: right;\n",
       "    }\n",
       "</style>\n",
       "<table border=\"1\" class=\"dataframe\">\n",
       "  <thead>\n",
       "    <tr style=\"text-align: right;\">\n",
       "      <th></th>\n",
       "      <th>nemotecnico_se</th>\n",
       "      <th>fecha</th>\n",
       "      <th>hora</th>\n",
       "      <th>gen_eolica_total_mwh</th>\n",
       "      <th>gen_geotermica_total_mwh</th>\n",
       "      <th>gen_hidraulica_total_mwh</th>\n",
       "      <th>gen_solar_total_mwh</th>\n",
       "      <th>gen_termica_total_mwh</th>\n",
       "      <th>cmg_real</th>\n",
       "      <th>cmg_prog</th>\n",
       "      <th>cmg_desv</th>\n",
       "      <th>cmg_desv_pct</th>\n",
       "      <th>n_barras</th>\n",
       "      <th>demanda_mwh</th>\n",
       "      <th>cap_inst_mw</th>\n",
       "    </tr>\n",
       "  </thead>\n",
       "  <tbody>\n",
       "    <tr>\n",
       "      <th>0</th>\n",
       "      <td>SE031G216</td>\n",
       "      <td>2019-01-04 00:00:00 UTC</td>\n",
       "      <td>1</td>\n",
       "      <td>NaN</td>\n",
       "      <td>NaN</td>\n",
       "      <td>NaN</td>\n",
       "      <td>NaN</td>\n",
       "      <td>0.0</td>\n",
       "      <td>56.2</td>\n",
       "      <td>55.627852</td>\n",
       "      <td>0.57</td>\n",
       "      <td>1.02</td>\n",
       "      <td>2</td>\n",
       "      <td>1210767</td>\n",
       "      <td>13.20785</td>\n",
       "    </tr>\n",
       "    <tr>\n",
       "      <th>1</th>\n",
       "      <td>SE031G216</td>\n",
       "      <td>2019-01-04 00:00:00 UTC</td>\n",
       "      <td>2</td>\n",
       "      <td>NaN</td>\n",
       "      <td>NaN</td>\n",
       "      <td>NaN</td>\n",
       "      <td>NaN</td>\n",
       "      <td>0.0</td>\n",
       "      <td>56.2</td>\n",
       "      <td>55.376645</td>\n",
       "      <td>0.82</td>\n",
       "      <td>1.48</td>\n",
       "      <td>2</td>\n",
       "      <td>113232</td>\n",
       "      <td>13.20785</td>\n",
       "    </tr>\n",
       "    <tr>\n",
       "      <th>2</th>\n",
       "      <td>SE031G216</td>\n",
       "      <td>2019-01-04 00:00:00 UTC</td>\n",
       "      <td>3</td>\n",
       "      <td>NaN</td>\n",
       "      <td>NaN</td>\n",
       "      <td>NaN</td>\n",
       "      <td>NaN</td>\n",
       "      <td>0.0</td>\n",
       "      <td>56.2</td>\n",
       "      <td>59.531891</td>\n",
       "      <td>-3.33</td>\n",
       "      <td>-5.59</td>\n",
       "      <td>2</td>\n",
       "      <td>1089415</td>\n",
       "      <td>13.20785</td>\n",
       "    </tr>\n",
       "    <tr>\n",
       "      <th>3</th>\n",
       "      <td>SE031G216</td>\n",
       "      <td>2019-01-04 00:00:00 UTC</td>\n",
       "      <td>4</td>\n",
       "      <td>NaN</td>\n",
       "      <td>NaN</td>\n",
       "      <td>NaN</td>\n",
       "      <td>NaN</td>\n",
       "      <td>0.0</td>\n",
       "      <td>56.2</td>\n",
       "      <td>174.378923</td>\n",
       "      <td>-118.18</td>\n",
       "      <td>-67.77</td>\n",
       "      <td>2</td>\n",
       "      <td>1096867</td>\n",
       "      <td>13.20785</td>\n",
       "    </tr>\n",
       "    <tr>\n",
       "      <th>4</th>\n",
       "      <td>SE031G216</td>\n",
       "      <td>2019-01-04 00:00:00 UTC</td>\n",
       "      <td>5</td>\n",
       "      <td>NaN</td>\n",
       "      <td>NaN</td>\n",
       "      <td>NaN</td>\n",
       "      <td>NaN</td>\n",
       "      <td>0.0</td>\n",
       "      <td>56.2</td>\n",
       "      <td>172.820310</td>\n",
       "      <td>-116.62</td>\n",
       "      <td>-67.48</td>\n",
       "      <td>2</td>\n",
       "      <td>1071851</td>\n",
       "      <td>13.20785</td>\n",
       "    </tr>\n",
       "  </tbody>\n",
       "</table>\n",
       "</div>"
      ],
      "text/plain": [
       "  nemotecnico_se                    fecha  hora  gen_eolica_total_mwh  \\\n",
       "0      SE031G216  2019-01-04 00:00:00 UTC     1                   NaN   \n",
       "1      SE031G216  2019-01-04 00:00:00 UTC     2                   NaN   \n",
       "2      SE031G216  2019-01-04 00:00:00 UTC     3                   NaN   \n",
       "3      SE031G216  2019-01-04 00:00:00 UTC     4                   NaN   \n",
       "4      SE031G216  2019-01-04 00:00:00 UTC     5                   NaN   \n",
       "\n",
       "   gen_geotermica_total_mwh  gen_hidraulica_total_mwh  gen_solar_total_mwh  \\\n",
       "0                       NaN                       NaN                  NaN   \n",
       "1                       NaN                       NaN                  NaN   \n",
       "2                       NaN                       NaN                  NaN   \n",
       "3                       NaN                       NaN                  NaN   \n",
       "4                       NaN                       NaN                  NaN   \n",
       "\n",
       "   gen_termica_total_mwh  cmg_real    cmg_prog  cmg_desv  cmg_desv_pct  \\\n",
       "0                    0.0      56.2   55.627852      0.57          1.02   \n",
       "1                    0.0      56.2   55.376645      0.82          1.48   \n",
       "2                    0.0      56.2   59.531891     -3.33         -5.59   \n",
       "3                    0.0      56.2  174.378923   -118.18        -67.77   \n",
       "4                    0.0      56.2  172.820310   -116.62        -67.48   \n",
       "\n",
       "   n_barras  demanda_mwh  cap_inst_mw  \n",
       "0         2      1210767     13.20785  \n",
       "1         2       113232     13.20785  \n",
       "2         2      1089415     13.20785  \n",
       "3         2      1096867     13.20785  \n",
       "4         2      1071851     13.20785  "
      ]
     },
     "execution_count": 54,
     "metadata": {},
     "output_type": "execute_result"
    }
   ],
   "source": [
    "df_pred.head()"
   ]
  },
  {
   "cell_type": "code",
   "execution_count": 55,
   "metadata": {},
   "outputs": [
    {
     "data": {
      "text/plain": [
       "(112779, 15)"
      ]
     },
     "execution_count": 55,
     "metadata": {},
     "output_type": "execute_result"
    }
   ],
   "source": [
    "df_pred.shape"
   ]
  },
  {
   "cell_type": "code",
   "execution_count": 56,
   "metadata": {},
   "outputs": [
    {
     "data": {
      "text/plain": [
       "nemotecnico_se               object\n",
       "fecha                        object\n",
       "hora                          int64\n",
       "gen_eolica_total_mwh        float64\n",
       "gen_geotermica_total_mwh    float64\n",
       "gen_hidraulica_total_mwh    float64\n",
       "gen_solar_total_mwh         float64\n",
       "gen_termica_total_mwh       float64\n",
       "cmg_real                    float64\n",
       "cmg_prog                    float64\n",
       "cmg_desv                    float64\n",
       "cmg_desv_pct                float64\n",
       "n_barras                      int64\n",
       "demanda_mwh                   int64\n",
       "cap_inst_mw                 float64\n",
       "dtype: object"
      ]
     },
     "execution_count": 56,
     "metadata": {},
     "output_type": "execute_result"
    }
   ],
   "source": [
    "df_pred.dtypes"
   ]
  },
  {
   "cell_type": "code",
   "execution_count": 57,
   "metadata": {},
   "outputs": [
    {
     "data": {
      "text/html": [
       "<div>\n",
       "<style scoped>\n",
       "    .dataframe tbody tr th:only-of-type {\n",
       "        vertical-align: middle;\n",
       "    }\n",
       "\n",
       "    .dataframe tbody tr th {\n",
       "        vertical-align: top;\n",
       "    }\n",
       "\n",
       "    .dataframe thead th {\n",
       "        text-align: right;\n",
       "    }\n",
       "</style>\n",
       "<table border=\"1\" class=\"dataframe\">\n",
       "  <thead>\n",
       "    <tr style=\"text-align: right;\">\n",
       "      <th></th>\n",
       "      <th>hora</th>\n",
       "      <th>gen_eolica_total_mwh</th>\n",
       "      <th>gen_geotermica_total_mwh</th>\n",
       "      <th>gen_hidraulica_total_mwh</th>\n",
       "      <th>gen_solar_total_mwh</th>\n",
       "      <th>gen_termica_total_mwh</th>\n",
       "      <th>cmg_real</th>\n",
       "      <th>cmg_prog</th>\n",
       "      <th>cmg_desv</th>\n",
       "      <th>cmg_desv_pct</th>\n",
       "      <th>n_barras</th>\n",
       "      <th>demanda_mwh</th>\n",
       "      <th>cap_inst_mw</th>\n",
       "    </tr>\n",
       "  </thead>\n",
       "  <tbody>\n",
       "    <tr>\n",
       "      <th>count</th>\n",
       "      <td>112779.000000</td>\n",
       "      <td>0.0</td>\n",
       "      <td>0.0</td>\n",
       "      <td>34184.000000</td>\n",
       "      <td>41818.000000</td>\n",
       "      <td>61863.000000</td>\n",
       "      <td>112779.000000</td>\n",
       "      <td>112779.000000</td>\n",
       "      <td>112779.000000</td>\n",
       "      <td>112779.00</td>\n",
       "      <td>112779.000000</td>\n",
       "      <td>1.127790e+05</td>\n",
       "      <td>112779.000000</td>\n",
       "    </tr>\n",
       "    <tr>\n",
       "      <th>mean</th>\n",
       "      <td>12.502993</td>\n",
       "      <td>NaN</td>\n",
       "      <td>NaN</td>\n",
       "      <td>38.120053</td>\n",
       "      <td>3.764987</td>\n",
       "      <td>40.583146</td>\n",
       "      <td>61.170058</td>\n",
       "      <td>62.215400</td>\n",
       "      <td>-1.045338</td>\n",
       "      <td>inf</td>\n",
       "      <td>2.331844</td>\n",
       "      <td>6.357056e+07</td>\n",
       "      <td>128.719565</td>\n",
       "    </tr>\n",
       "    <tr>\n",
       "      <th>std</th>\n",
       "      <td>6.924090</td>\n",
       "      <td>NaN</td>\n",
       "      <td>NaN</td>\n",
       "      <td>69.838109</td>\n",
       "      <td>12.904388</td>\n",
       "      <td>101.083396</td>\n",
       "      <td>25.414147</td>\n",
       "      <td>25.307759</td>\n",
       "      <td>24.711575</td>\n",
       "      <td>NaN</td>\n",
       "      <td>1.304096</td>\n",
       "      <td>3.948683e+08</td>\n",
       "      <td>167.948649</td>\n",
       "    </tr>\n",
       "    <tr>\n",
       "      <th>min</th>\n",
       "      <td>1.000000</td>\n",
       "      <td>NaN</td>\n",
       "      <td>NaN</td>\n",
       "      <td>0.000000</td>\n",
       "      <td>0.000000</td>\n",
       "      <td>0.000000</td>\n",
       "      <td>0.000000</td>\n",
       "      <td>-1.713131</td>\n",
       "      <td>-562.470000</td>\n",
       "      <td>-3403.97</td>\n",
       "      <td>1.000000</td>\n",
       "      <td>-9.821095e+09</td>\n",
       "      <td>2.989800</td>\n",
       "    </tr>\n",
       "    <tr>\n",
       "      <th>25%</th>\n",
       "      <td>7.000000</td>\n",
       "      <td>NaN</td>\n",
       "      <td>NaN</td>\n",
       "      <td>0.849787</td>\n",
       "      <td>0.000000</td>\n",
       "      <td>0.000000</td>\n",
       "      <td>49.130000</td>\n",
       "      <td>49.906745</td>\n",
       "      <td>-3.790000</td>\n",
       "      <td>-7.07</td>\n",
       "      <td>1.000000</td>\n",
       "      <td>7.464800e+05</td>\n",
       "      <td>18.420000</td>\n",
       "    </tr>\n",
       "    <tr>\n",
       "      <th>50%</th>\n",
       "      <td>13.000000</td>\n",
       "      <td>NaN</td>\n",
       "      <td>NaN</td>\n",
       "      <td>9.600000</td>\n",
       "      <td>0.000000</td>\n",
       "      <td>0.000000</td>\n",
       "      <td>54.610000</td>\n",
       "      <td>55.420601</td>\n",
       "      <td>-0.310000</td>\n",
       "      <td>-0.58</td>\n",
       "      <td>2.000000</td>\n",
       "      <td>4.507282e+06</td>\n",
       "      <td>51.850000</td>\n",
       "    </tr>\n",
       "    <tr>\n",
       "      <th>75%</th>\n",
       "      <td>19.000000</td>\n",
       "      <td>NaN</td>\n",
       "      <td>NaN</td>\n",
       "      <td>40.000000</td>\n",
       "      <td>1.571022</td>\n",
       "      <td>15.960000</td>\n",
       "      <td>63.500000</td>\n",
       "      <td>64.701951</td>\n",
       "      <td>1.670000</td>\n",
       "      <td>2.92</td>\n",
       "      <td>3.000000</td>\n",
       "      <td>1.332345e+07</td>\n",
       "      <td>184.685500</td>\n",
       "    </tr>\n",
       "    <tr>\n",
       "      <th>max</th>\n",
       "      <td>25.000000</td>\n",
       "      <td>NaN</td>\n",
       "      <td>NaN</td>\n",
       "      <td>472.000000</td>\n",
       "      <td>86.050000</td>\n",
       "      <td>570.600800</td>\n",
       "      <td>240.360000</td>\n",
       "      <td>610.600000</td>\n",
       "      <td>175.020000</td>\n",
       "      <td>inf</td>\n",
       "      <td>6.000000</td>\n",
       "      <td>1.004240e+10</td>\n",
       "      <td>597.782800</td>\n",
       "    </tr>\n",
       "  </tbody>\n",
       "</table>\n",
       "</div>"
      ],
      "text/plain": [
       "                hora  gen_eolica_total_mwh  gen_geotermica_total_mwh  \\\n",
       "count  112779.000000                   0.0                       0.0   \n",
       "mean       12.502993                   NaN                       NaN   \n",
       "std         6.924090                   NaN                       NaN   \n",
       "min         1.000000                   NaN                       NaN   \n",
       "25%         7.000000                   NaN                       NaN   \n",
       "50%        13.000000                   NaN                       NaN   \n",
       "75%        19.000000                   NaN                       NaN   \n",
       "max        25.000000                   NaN                       NaN   \n",
       "\n",
       "       gen_hidraulica_total_mwh  gen_solar_total_mwh  gen_termica_total_mwh  \\\n",
       "count              34184.000000         41818.000000           61863.000000   \n",
       "mean                  38.120053             3.764987              40.583146   \n",
       "std                   69.838109            12.904388             101.083396   \n",
       "min                    0.000000             0.000000               0.000000   \n",
       "25%                    0.849787             0.000000               0.000000   \n",
       "50%                    9.600000             0.000000               0.000000   \n",
       "75%                   40.000000             1.571022              15.960000   \n",
       "max                  472.000000            86.050000             570.600800   \n",
       "\n",
       "            cmg_real       cmg_prog       cmg_desv  cmg_desv_pct  \\\n",
       "count  112779.000000  112779.000000  112779.000000     112779.00   \n",
       "mean       61.170058      62.215400      -1.045338           inf   \n",
       "std        25.414147      25.307759      24.711575           NaN   \n",
       "min         0.000000      -1.713131    -562.470000      -3403.97   \n",
       "25%        49.130000      49.906745      -3.790000         -7.07   \n",
       "50%        54.610000      55.420601      -0.310000         -0.58   \n",
       "75%        63.500000      64.701951       1.670000          2.92   \n",
       "max       240.360000     610.600000     175.020000           inf   \n",
       "\n",
       "            n_barras   demanda_mwh    cap_inst_mw  \n",
       "count  112779.000000  1.127790e+05  112779.000000  \n",
       "mean        2.331844  6.357056e+07     128.719565  \n",
       "std         1.304096  3.948683e+08     167.948649  \n",
       "min         1.000000 -9.821095e+09       2.989800  \n",
       "25%         1.000000  7.464800e+05      18.420000  \n",
       "50%         2.000000  4.507282e+06      51.850000  \n",
       "75%         3.000000  1.332345e+07     184.685500  \n",
       "max         6.000000  1.004240e+10     597.782800  "
      ]
     },
     "execution_count": 57,
     "metadata": {},
     "output_type": "execute_result"
    }
   ],
   "source": [
    "df_pred.describe()"
   ]
  },
  {
   "cell_type": "markdown",
   "metadata": {},
   "source": [
    "Por lo que se puede observar de los datos en este punto, el archivo contiene 15 variables incluyendo la variable identificadora y 112.779 filas. Todas las variables menos 'nemotecnico_se' y 'fecha' son numéricas. La variable 'fecha' está reconocida como caracter, no como serie de tiempo, por lo cual es posible que debamos modificarla.\n",
    "La hora nuevamente va de 1 25, por lo que habría que modificarla. También la hora de la variable 'fecha' no coincide con la variable 'hora' por lo que al parecer se formateó erróneamente desde los datos originales.\n",
    "Finalmente, 'gen_eolica_total_mwh' y 'gen_geotermica_total_mwh' tienen solo valores nulos, por lo que son variables que podrían eliminarse."
   ]
  },
  {
   "cell_type": "code",
   "execution_count": 58,
   "metadata": {},
   "outputs": [
    {
     "data": {
      "text/plain": [
       "pandas.core.series.Series"
      ]
     },
     "execution_count": 58,
     "metadata": {},
     "output_type": "execute_result"
    }
   ],
   "source": [
    "type(df_pred['fecha'])"
   ]
  },
  {
   "cell_type": "code",
   "execution_count": 59,
   "metadata": {},
   "outputs": [],
   "source": [
    "df_pred['mes'] = pd.DatetimeIndex(df_pred['fecha']).month\n",
    "df_pred['dia_mes'] = pd.DatetimeIndex(df_pred['fecha']).day\n",
    "df_pred['anio'] = pd.DatetimeIndex(df_pred['fecha']).year\n",
    "df_pred['dia_semana'] = pd.DatetimeIndex(df_pred['fecha']).weekday\n",
    "df_pred['semana_anio'] = pd.DatetimeIndex(df_pred['fecha']).strftime('%V')\n",
    "df_pred['findesemana'] = np.where((df_pred['dia_semana']) == 6 | (df_pred['dia_semana'] == 5), 1, 0)"
   ]
  },
  {
   "cell_type": "code",
   "execution_count": 60,
   "metadata": {},
   "outputs": [
    {
     "data": {
      "text/plain": [
       "(112779, 21)"
      ]
     },
     "execution_count": 60,
     "metadata": {},
     "output_type": "execute_result"
    }
   ],
   "source": [
    "df_pred.shape"
   ]
  },
  {
   "cell_type": "code",
   "execution_count": 61,
   "metadata": {},
   "outputs": [],
   "source": [
    "df_pred['fecha'] = df_pred['fecha'].str.replace(' UTC', '')\n",
    "df_pred.loc[:,'fecha'] = pd.to_datetime(df_pred['fecha'])"
   ]
  },
  {
   "cell_type": "code",
   "execution_count": 62,
   "metadata": {},
   "outputs": [
    {
     "data": {
      "text/html": [
       "<div>\n",
       "<style scoped>\n",
       "    .dataframe tbody tr th:only-of-type {\n",
       "        vertical-align: middle;\n",
       "    }\n",
       "\n",
       "    .dataframe tbody tr th {\n",
       "        vertical-align: top;\n",
       "    }\n",
       "\n",
       "    .dataframe thead th {\n",
       "        text-align: right;\n",
       "    }\n",
       "</style>\n",
       "<table border=\"1\" class=\"dataframe\">\n",
       "  <thead>\n",
       "    <tr style=\"text-align: right;\">\n",
       "      <th></th>\n",
       "      <th>nemotecnico_se</th>\n",
       "      <th>fecha</th>\n",
       "      <th>hora</th>\n",
       "      <th>gen_eolica_total_mwh</th>\n",
       "      <th>gen_geotermica_total_mwh</th>\n",
       "      <th>gen_hidraulica_total_mwh</th>\n",
       "      <th>gen_solar_total_mwh</th>\n",
       "      <th>gen_termica_total_mwh</th>\n",
       "      <th>cmg_real</th>\n",
       "      <th>cmg_prog</th>\n",
       "      <th>...</th>\n",
       "      <th>cmg_desv_pct</th>\n",
       "      <th>n_barras</th>\n",
       "      <th>demanda_mwh</th>\n",
       "      <th>cap_inst_mw</th>\n",
       "      <th>mes</th>\n",
       "      <th>dia_mes</th>\n",
       "      <th>anio</th>\n",
       "      <th>dia_semana</th>\n",
       "      <th>semana_anio</th>\n",
       "      <th>findesemana</th>\n",
       "    </tr>\n",
       "  </thead>\n",
       "  <tbody>\n",
       "    <tr>\n",
       "      <th>0</th>\n",
       "      <td>SE031G216</td>\n",
       "      <td>2019-01-04</td>\n",
       "      <td>1</td>\n",
       "      <td>NaN</td>\n",
       "      <td>NaN</td>\n",
       "      <td>NaN</td>\n",
       "      <td>NaN</td>\n",
       "      <td>0.0</td>\n",
       "      <td>56.2</td>\n",
       "      <td>55.627852</td>\n",
       "      <td>...</td>\n",
       "      <td>1.02</td>\n",
       "      <td>2</td>\n",
       "      <td>1210767</td>\n",
       "      <td>13.20785</td>\n",
       "      <td>1</td>\n",
       "      <td>4</td>\n",
       "      <td>2019</td>\n",
       "      <td>4</td>\n",
       "      <td>01</td>\n",
       "      <td>0</td>\n",
       "    </tr>\n",
       "    <tr>\n",
       "      <th>1</th>\n",
       "      <td>SE031G216</td>\n",
       "      <td>2019-01-04</td>\n",
       "      <td>2</td>\n",
       "      <td>NaN</td>\n",
       "      <td>NaN</td>\n",
       "      <td>NaN</td>\n",
       "      <td>NaN</td>\n",
       "      <td>0.0</td>\n",
       "      <td>56.2</td>\n",
       "      <td>55.376645</td>\n",
       "      <td>...</td>\n",
       "      <td>1.48</td>\n",
       "      <td>2</td>\n",
       "      <td>113232</td>\n",
       "      <td>13.20785</td>\n",
       "      <td>1</td>\n",
       "      <td>4</td>\n",
       "      <td>2019</td>\n",
       "      <td>4</td>\n",
       "      <td>01</td>\n",
       "      <td>0</td>\n",
       "    </tr>\n",
       "    <tr>\n",
       "      <th>2</th>\n",
       "      <td>SE031G216</td>\n",
       "      <td>2019-01-04</td>\n",
       "      <td>3</td>\n",
       "      <td>NaN</td>\n",
       "      <td>NaN</td>\n",
       "      <td>NaN</td>\n",
       "      <td>NaN</td>\n",
       "      <td>0.0</td>\n",
       "      <td>56.2</td>\n",
       "      <td>59.531891</td>\n",
       "      <td>...</td>\n",
       "      <td>-5.59</td>\n",
       "      <td>2</td>\n",
       "      <td>1089415</td>\n",
       "      <td>13.20785</td>\n",
       "      <td>1</td>\n",
       "      <td>4</td>\n",
       "      <td>2019</td>\n",
       "      <td>4</td>\n",
       "      <td>01</td>\n",
       "      <td>0</td>\n",
       "    </tr>\n",
       "    <tr>\n",
       "      <th>3</th>\n",
       "      <td>SE031G216</td>\n",
       "      <td>2019-01-04</td>\n",
       "      <td>4</td>\n",
       "      <td>NaN</td>\n",
       "      <td>NaN</td>\n",
       "      <td>NaN</td>\n",
       "      <td>NaN</td>\n",
       "      <td>0.0</td>\n",
       "      <td>56.2</td>\n",
       "      <td>174.378923</td>\n",
       "      <td>...</td>\n",
       "      <td>-67.77</td>\n",
       "      <td>2</td>\n",
       "      <td>1096867</td>\n",
       "      <td>13.20785</td>\n",
       "      <td>1</td>\n",
       "      <td>4</td>\n",
       "      <td>2019</td>\n",
       "      <td>4</td>\n",
       "      <td>01</td>\n",
       "      <td>0</td>\n",
       "    </tr>\n",
       "    <tr>\n",
       "      <th>4</th>\n",
       "      <td>SE031G216</td>\n",
       "      <td>2019-01-04</td>\n",
       "      <td>5</td>\n",
       "      <td>NaN</td>\n",
       "      <td>NaN</td>\n",
       "      <td>NaN</td>\n",
       "      <td>NaN</td>\n",
       "      <td>0.0</td>\n",
       "      <td>56.2</td>\n",
       "      <td>172.820310</td>\n",
       "      <td>...</td>\n",
       "      <td>-67.48</td>\n",
       "      <td>2</td>\n",
       "      <td>1071851</td>\n",
       "      <td>13.20785</td>\n",
       "      <td>1</td>\n",
       "      <td>4</td>\n",
       "      <td>2019</td>\n",
       "      <td>4</td>\n",
       "      <td>01</td>\n",
       "      <td>0</td>\n",
       "    </tr>\n",
       "  </tbody>\n",
       "</table>\n",
       "<p>5 rows × 21 columns</p>\n",
       "</div>"
      ],
      "text/plain": [
       "  nemotecnico_se      fecha  hora  gen_eolica_total_mwh  \\\n",
       "0      SE031G216 2019-01-04     1                   NaN   \n",
       "1      SE031G216 2019-01-04     2                   NaN   \n",
       "2      SE031G216 2019-01-04     3                   NaN   \n",
       "3      SE031G216 2019-01-04     4                   NaN   \n",
       "4      SE031G216 2019-01-04     5                   NaN   \n",
       "\n",
       "   gen_geotermica_total_mwh  gen_hidraulica_total_mwh  gen_solar_total_mwh  \\\n",
       "0                       NaN                       NaN                  NaN   \n",
       "1                       NaN                       NaN                  NaN   \n",
       "2                       NaN                       NaN                  NaN   \n",
       "3                       NaN                       NaN                  NaN   \n",
       "4                       NaN                       NaN                  NaN   \n",
       "\n",
       "   gen_termica_total_mwh  cmg_real    cmg_prog  ...  cmg_desv_pct  n_barras  \\\n",
       "0                    0.0      56.2   55.627852  ...          1.02         2   \n",
       "1                    0.0      56.2   55.376645  ...          1.48         2   \n",
       "2                    0.0      56.2   59.531891  ...         -5.59         2   \n",
       "3                    0.0      56.2  174.378923  ...        -67.77         2   \n",
       "4                    0.0      56.2  172.820310  ...        -67.48         2   \n",
       "\n",
       "   demanda_mwh  cap_inst_mw  mes  dia_mes  anio  dia_semana  semana_anio  \\\n",
       "0      1210767     13.20785    1        4  2019           4           01   \n",
       "1       113232     13.20785    1        4  2019           4           01   \n",
       "2      1089415     13.20785    1        4  2019           4           01   \n",
       "3      1096867     13.20785    1        4  2019           4           01   \n",
       "4      1071851     13.20785    1        4  2019           4           01   \n",
       "\n",
       "  findesemana  \n",
       "0           0  \n",
       "1           0  \n",
       "2           0  \n",
       "3           0  \n",
       "4           0  \n",
       "\n",
       "[5 rows x 21 columns]"
      ]
     },
     "execution_count": 62,
     "metadata": {},
     "output_type": "execute_result"
    }
   ],
   "source": [
    "df_pred.head()"
   ]
  },
  {
   "cell_type": "code",
   "execution_count": 63,
   "metadata": {},
   "outputs": [
    {
     "data": {
      "text/html": [
       "<div>\n",
       "<style scoped>\n",
       "    .dataframe tbody tr th:only-of-type {\n",
       "        vertical-align: middle;\n",
       "    }\n",
       "\n",
       "    .dataframe tbody tr th {\n",
       "        vertical-align: top;\n",
       "    }\n",
       "\n",
       "    .dataframe thead th {\n",
       "        text-align: right;\n",
       "    }\n",
       "</style>\n",
       "<table border=\"1\" class=\"dataframe\">\n",
       "  <thead>\n",
       "    <tr style=\"text-align: right;\">\n",
       "      <th></th>\n",
       "      <th>nemotecnico_se</th>\n",
       "      <th>fecha</th>\n",
       "      <th>hora</th>\n",
       "      <th>gen_eolica_total_mwh</th>\n",
       "      <th>gen_geotermica_total_mwh</th>\n",
       "      <th>gen_hidraulica_total_mwh</th>\n",
       "      <th>gen_solar_total_mwh</th>\n",
       "      <th>gen_termica_total_mwh</th>\n",
       "      <th>cmg_real</th>\n",
       "      <th>cmg_prog</th>\n",
       "      <th>...</th>\n",
       "      <th>cmg_desv_pct</th>\n",
       "      <th>n_barras</th>\n",
       "      <th>demanda_mwh</th>\n",
       "      <th>cap_inst_mw</th>\n",
       "      <th>mes</th>\n",
       "      <th>dia_mes</th>\n",
       "      <th>anio</th>\n",
       "      <th>dia_semana</th>\n",
       "      <th>semana_anio</th>\n",
       "      <th>findesemana</th>\n",
       "    </tr>\n",
       "  </thead>\n",
       "  <tbody>\n",
       "    <tr>\n",
       "      <th>327</th>\n",
       "      <td>SE001T002</td>\n",
       "      <td>2019-01-10</td>\n",
       "      <td>1</td>\n",
       "      <td>NaN</td>\n",
       "      <td>NaN</td>\n",
       "      <td>NaN</td>\n",
       "      <td>0.0</td>\n",
       "      <td>0.000</td>\n",
       "      <td>50.73</td>\n",
       "      <td>52.504364</td>\n",
       "      <td>...</td>\n",
       "      <td>-3.37</td>\n",
       "      <td>2</td>\n",
       "      <td>115100027</td>\n",
       "      <td>14.2881</td>\n",
       "      <td>1</td>\n",
       "      <td>10</td>\n",
       "      <td>2019</td>\n",
       "      <td>3</td>\n",
       "      <td>02</td>\n",
       "      <td>0</td>\n",
       "    </tr>\n",
       "    <tr>\n",
       "      <th>328</th>\n",
       "      <td>SE001T002</td>\n",
       "      <td>2019-01-10</td>\n",
       "      <td>2</td>\n",
       "      <td>NaN</td>\n",
       "      <td>NaN</td>\n",
       "      <td>NaN</td>\n",
       "      <td>0.0</td>\n",
       "      <td>0.000</td>\n",
       "      <td>50.73</td>\n",
       "      <td>52.017483</td>\n",
       "      <td>...</td>\n",
       "      <td>-2.48</td>\n",
       "      <td>2</td>\n",
       "      <td>133530877</td>\n",
       "      <td>14.2881</td>\n",
       "      <td>1</td>\n",
       "      <td>10</td>\n",
       "      <td>2019</td>\n",
       "      <td>3</td>\n",
       "      <td>02</td>\n",
       "      <td>0</td>\n",
       "    </tr>\n",
       "    <tr>\n",
       "      <th>329</th>\n",
       "      <td>SE001T002</td>\n",
       "      <td>2019-01-10</td>\n",
       "      <td>3</td>\n",
       "      <td>NaN</td>\n",
       "      <td>NaN</td>\n",
       "      <td>NaN</td>\n",
       "      <td>0.0</td>\n",
       "      <td>0.000</td>\n",
       "      <td>50.73</td>\n",
       "      <td>52.032915</td>\n",
       "      <td>...</td>\n",
       "      <td>-2.50</td>\n",
       "      <td>2</td>\n",
       "      <td>128296057</td>\n",
       "      <td>14.2881</td>\n",
       "      <td>1</td>\n",
       "      <td>10</td>\n",
       "      <td>2019</td>\n",
       "      <td>3</td>\n",
       "      <td>02</td>\n",
       "      <td>0</td>\n",
       "    </tr>\n",
       "    <tr>\n",
       "      <th>330</th>\n",
       "      <td>SE001T002</td>\n",
       "      <td>2019-01-10</td>\n",
       "      <td>4</td>\n",
       "      <td>NaN</td>\n",
       "      <td>NaN</td>\n",
       "      <td>NaN</td>\n",
       "      <td>0.0</td>\n",
       "      <td>0.000</td>\n",
       "      <td>50.73</td>\n",
       "      <td>52.032915</td>\n",
       "      <td>...</td>\n",
       "      <td>-2.50</td>\n",
       "      <td>2</td>\n",
       "      <td>121300013</td>\n",
       "      <td>14.2881</td>\n",
       "      <td>1</td>\n",
       "      <td>10</td>\n",
       "      <td>2019</td>\n",
       "      <td>3</td>\n",
       "      <td>02</td>\n",
       "      <td>0</td>\n",
       "    </tr>\n",
       "    <tr>\n",
       "      <th>331</th>\n",
       "      <td>SE001T002</td>\n",
       "      <td>2019-01-10</td>\n",
       "      <td>5</td>\n",
       "      <td>NaN</td>\n",
       "      <td>NaN</td>\n",
       "      <td>NaN</td>\n",
       "      <td>0.0</td>\n",
       "      <td>0.000</td>\n",
       "      <td>50.73</td>\n",
       "      <td>169.894814</td>\n",
       "      <td>...</td>\n",
       "      <td>-70.14</td>\n",
       "      <td>2</td>\n",
       "      <td>121705219</td>\n",
       "      <td>14.2881</td>\n",
       "      <td>1</td>\n",
       "      <td>10</td>\n",
       "      <td>2019</td>\n",
       "      <td>3</td>\n",
       "      <td>02</td>\n",
       "      <td>0</td>\n",
       "    </tr>\n",
       "    <tr>\n",
       "      <th>...</th>\n",
       "      <td>...</td>\n",
       "      <td>...</td>\n",
       "      <td>...</td>\n",
       "      <td>...</td>\n",
       "      <td>...</td>\n",
       "      <td>...</td>\n",
       "      <td>...</td>\n",
       "      <td>...</td>\n",
       "      <td>...</td>\n",
       "      <td>...</td>\n",
       "      <td>...</td>\n",
       "      <td>...</td>\n",
       "      <td>...</td>\n",
       "      <td>...</td>\n",
       "      <td>...</td>\n",
       "      <td>...</td>\n",
       "      <td>...</td>\n",
       "      <td>...</td>\n",
       "      <td>...</td>\n",
       "      <td>...</td>\n",
       "      <td>...</td>\n",
       "    </tr>\n",
       "    <tr>\n",
       "      <th>108765</th>\n",
       "      <td>SE170T005</td>\n",
       "      <td>2019-01-14</td>\n",
       "      <td>20</td>\n",
       "      <td>NaN</td>\n",
       "      <td>NaN</td>\n",
       "      <td>NaN</td>\n",
       "      <td>NaN</td>\n",
       "      <td>1.800</td>\n",
       "      <td>50.33</td>\n",
       "      <td>52.805214</td>\n",
       "      <td>...</td>\n",
       "      <td>-4.70</td>\n",
       "      <td>3</td>\n",
       "      <td>655088</td>\n",
       "      <td>30.1400</td>\n",
       "      <td>1</td>\n",
       "      <td>14</td>\n",
       "      <td>2019</td>\n",
       "      <td>0</td>\n",
       "      <td>03</td>\n",
       "      <td>0</td>\n",
       "    </tr>\n",
       "    <tr>\n",
       "      <th>108766</th>\n",
       "      <td>SE170T005</td>\n",
       "      <td>2019-01-14</td>\n",
       "      <td>21</td>\n",
       "      <td>NaN</td>\n",
       "      <td>NaN</td>\n",
       "      <td>NaN</td>\n",
       "      <td>NaN</td>\n",
       "      <td>1.425</td>\n",
       "      <td>50.33</td>\n",
       "      <td>52.812324</td>\n",
       "      <td>...</td>\n",
       "      <td>-4.70</td>\n",
       "      <td>3</td>\n",
       "      <td>8346504</td>\n",
       "      <td>30.1400</td>\n",
       "      <td>1</td>\n",
       "      <td>14</td>\n",
       "      <td>2019</td>\n",
       "      <td>0</td>\n",
       "      <td>03</td>\n",
       "      <td>0</td>\n",
       "    </tr>\n",
       "    <tr>\n",
       "      <th>108767</th>\n",
       "      <td>SE170T005</td>\n",
       "      <td>2019-01-14</td>\n",
       "      <td>22</td>\n",
       "      <td>NaN</td>\n",
       "      <td>NaN</td>\n",
       "      <td>NaN</td>\n",
       "      <td>NaN</td>\n",
       "      <td>1.525</td>\n",
       "      <td>50.33</td>\n",
       "      <td>52.807554</td>\n",
       "      <td>...</td>\n",
       "      <td>-4.70</td>\n",
       "      <td>3</td>\n",
       "      <td>9169738</td>\n",
       "      <td>30.1400</td>\n",
       "      <td>1</td>\n",
       "      <td>14</td>\n",
       "      <td>2019</td>\n",
       "      <td>0</td>\n",
       "      <td>03</td>\n",
       "      <td>0</td>\n",
       "    </tr>\n",
       "    <tr>\n",
       "      <th>108768</th>\n",
       "      <td>SE170T005</td>\n",
       "      <td>2019-01-14</td>\n",
       "      <td>23</td>\n",
       "      <td>NaN</td>\n",
       "      <td>NaN</td>\n",
       "      <td>NaN</td>\n",
       "      <td>NaN</td>\n",
       "      <td>1.475</td>\n",
       "      <td>48.65</td>\n",
       "      <td>52.807554</td>\n",
       "      <td>...</td>\n",
       "      <td>-7.88</td>\n",
       "      <td>3</td>\n",
       "      <td>9323187</td>\n",
       "      <td>30.1400</td>\n",
       "      <td>1</td>\n",
       "      <td>14</td>\n",
       "      <td>2019</td>\n",
       "      <td>0</td>\n",
       "      <td>03</td>\n",
       "      <td>0</td>\n",
       "    </tr>\n",
       "    <tr>\n",
       "      <th>108769</th>\n",
       "      <td>SE170T005</td>\n",
       "      <td>2019-01-14</td>\n",
       "      <td>24</td>\n",
       "      <td>NaN</td>\n",
       "      <td>NaN</td>\n",
       "      <td>NaN</td>\n",
       "      <td>NaN</td>\n",
       "      <td>1.525</td>\n",
       "      <td>46.62</td>\n",
       "      <td>52.814537</td>\n",
       "      <td>...</td>\n",
       "      <td>-11.72</td>\n",
       "      <td>3</td>\n",
       "      <td>7832031</td>\n",
       "      <td>30.1400</td>\n",
       "      <td>1</td>\n",
       "      <td>14</td>\n",
       "      <td>2019</td>\n",
       "      <td>0</td>\n",
       "      <td>03</td>\n",
       "      <td>0</td>\n",
       "    </tr>\n",
       "  </tbody>\n",
       "</table>\n",
       "<p>3000 rows × 21 columns</p>\n",
       "</div>"
      ],
      "text/plain": [
       "       nemotecnico_se      fecha  hora  gen_eolica_total_mwh  \\\n",
       "327         SE001T002 2019-01-10     1                   NaN   \n",
       "328         SE001T002 2019-01-10     2                   NaN   \n",
       "329         SE001T002 2019-01-10     3                   NaN   \n",
       "330         SE001T002 2019-01-10     4                   NaN   \n",
       "331         SE001T002 2019-01-10     5                   NaN   \n",
       "...               ...        ...   ...                   ...   \n",
       "108765      SE170T005 2019-01-14    20                   NaN   \n",
       "108766      SE170T005 2019-01-14    21                   NaN   \n",
       "108767      SE170T005 2019-01-14    22                   NaN   \n",
       "108768      SE170T005 2019-01-14    23                   NaN   \n",
       "108769      SE170T005 2019-01-14    24                   NaN   \n",
       "\n",
       "        gen_geotermica_total_mwh  gen_hidraulica_total_mwh  \\\n",
       "327                          NaN                       NaN   \n",
       "328                          NaN                       NaN   \n",
       "329                          NaN                       NaN   \n",
       "330                          NaN                       NaN   \n",
       "331                          NaN                       NaN   \n",
       "...                          ...                       ...   \n",
       "108765                       NaN                       NaN   \n",
       "108766                       NaN                       NaN   \n",
       "108767                       NaN                       NaN   \n",
       "108768                       NaN                       NaN   \n",
       "108769                       NaN                       NaN   \n",
       "\n",
       "        gen_solar_total_mwh  gen_termica_total_mwh  cmg_real    cmg_prog  ...  \\\n",
       "327                     0.0                  0.000     50.73   52.504364  ...   \n",
       "328                     0.0                  0.000     50.73   52.017483  ...   \n",
       "329                     0.0                  0.000     50.73   52.032915  ...   \n",
       "330                     0.0                  0.000     50.73   52.032915  ...   \n",
       "331                     0.0                  0.000     50.73  169.894814  ...   \n",
       "...                     ...                    ...       ...         ...  ...   \n",
       "108765                  NaN                  1.800     50.33   52.805214  ...   \n",
       "108766                  NaN                  1.425     50.33   52.812324  ...   \n",
       "108767                  NaN                  1.525     50.33   52.807554  ...   \n",
       "108768                  NaN                  1.475     48.65   52.807554  ...   \n",
       "108769                  NaN                  1.525     46.62   52.814537  ...   \n",
       "\n",
       "        cmg_desv_pct  n_barras  demanda_mwh  cap_inst_mw  mes  dia_mes  anio  \\\n",
       "327            -3.37         2    115100027      14.2881    1       10  2019   \n",
       "328            -2.48         2    133530877      14.2881    1       10  2019   \n",
       "329            -2.50         2    128296057      14.2881    1       10  2019   \n",
       "330            -2.50         2    121300013      14.2881    1       10  2019   \n",
       "331           -70.14         2    121705219      14.2881    1       10  2019   \n",
       "...              ...       ...          ...          ...  ...      ...   ...   \n",
       "108765         -4.70         3       655088      30.1400    1       14  2019   \n",
       "108766         -4.70         3      8346504      30.1400    1       14  2019   \n",
       "108767         -4.70         3      9169738      30.1400    1       14  2019   \n",
       "108768         -7.88         3      9323187      30.1400    1       14  2019   \n",
       "108769        -11.72         3      7832031      30.1400    1       14  2019   \n",
       "\n",
       "        dia_semana  semana_anio findesemana  \n",
       "327              3           02           0  \n",
       "328              3           02           0  \n",
       "329              3           02           0  \n",
       "330              3           02           0  \n",
       "331              3           02           0  \n",
       "...            ...          ...         ...  \n",
       "108765           0           03           0  \n",
       "108766           0           03           0  \n",
       "108767           0           03           0  \n",
       "108768           0           03           0  \n",
       "108769           0           03           0  \n",
       "\n",
       "[3000 rows x 21 columns]"
      ]
     },
     "execution_count": 63,
     "metadata": {},
     "output_type": "execute_result"
    }
   ],
   "source": [
    "lista_fechas = ['2019-01-10', '2019-01-11', '2019-01-12', '2019-01-13', '2019-01-14']\n",
    "df_pred[df_pred.fecha.isin(lista_fechas)]"
   ]
  },
  {
   "cell_type": "code",
   "execution_count": 64,
   "metadata": {},
   "outputs": [],
   "source": [
    "def time_dist(codigo_se, var_num, lista_fechas):\n",
    "    df = df_pred[df_pred.fecha.isin(lista_fechas)]\n",
    "    fig, ax = plt.subplots()\n",
    "    p = sns.lineplot(x='fecha', y=var_num,\n",
    "             data=df[(df.nemotecnico_se == codigo_se)])\n",
    "    ax.xaxis.set_major_formatter(dates.DateFormatter(\"%m-%d\"))\n",
    "    plt.xticks(rotation=45)\n",
    "    return p"
   ]
  },
  {
   "cell_type": "code",
   "execution_count": 65,
   "metadata": {},
   "outputs": [
    {
     "data": {
      "text/plain": [
       "<matplotlib.axes._subplots.AxesSubplot at 0x7fa06038fe80>"
      ]
     },
     "execution_count": 65,
     "metadata": {},
     "output_type": "execute_result"
    },
    {
     "data": {
      "image/png": "[encoded data removed]",
      "text/plain": [
       "<Figure size 432x288 with 1 Axes>"
      ]
     },
     "metadata": {
      "needs_background": "light"
     },
     "output_type": "display_data"
    }
   ],
   "source": [
    "time_dist('SE005T002', 'gen_solar_total_mwh', ['2019-01-10', '2019-01-11', '2019-01-12', '2019-01-13', '2019-01-14'])"
   ]
  },
  {
   "cell_type": "code",
   "execution_count": 66,
   "metadata": {},
   "outputs": [
    {
     "data": {
      "text/plain": [
       "<matplotlib.axes._subplots.AxesSubplot at 0x7fa053b356a0>"
      ]
     },
     "execution_count": 66,
     "metadata": {},
     "output_type": "execute_result"
    },
    {
     "data": {
      "image/png": "[encoded data removed]",
      "text/plain": [
       "<Figure size 432x288 with 1 Axes>"
      ]
     },
     "metadata": {
      "needs_background": "light"
     },
     "output_type": "display_data"
    }
   ],
   "source": [
    "time_dist('SE127T005', 'gen_solar_total_mwh', ['2019-01-10', '2019-01-11', '2019-01-12', '2019-01-13', '2019-01-14'])"
   ]
  },
  {
   "cell_type": "markdown",
   "metadata": {},
   "source": [
    "En ambas barras se ve que la generación de energía solar tiene una curva similar, pero es más pronunciada en la segunda barra, donde hay una disminución importante el día 12 de enero, pero en ambos casos la tendencia a disminución comienza el día 11 de enero y se recupera el día 13. Puede tener que ver con el clima en ese día, siendo enero verano, puede que la disminución de generación de energía solar en distintos niveles se asocie a la ubicación de las subestaciones analizadas. Esto se podría rastrear teniendo la ubicación de cada subestación y el clima en ese rango de fechas. Otra observación es que la generación solar en el primer caso es mucho mayor que en el segundo, mirando el eje y."
   ]
  },
  {
   "cell_type": "code",
   "execution_count": 67,
   "metadata": {},
   "outputs": [
    {
     "data": {
      "text/plain": [
       "<matplotlib.axes._subplots.AxesSubplot at 0x7fa053b35358>"
      ]
     },
     "execution_count": 67,
     "metadata": {},
     "output_type": "execute_result"
    },
    {
     "data": {
      "image/png": "[encoded data removed]",
      "text/plain": [
       "<Figure size 432x288 with 1 Axes>"
      ]
     },
     "metadata": {
      "needs_background": "light"
     },
     "output_type": "display_data"
    }
   ],
   "source": [
    "time_dist('SE020G213', 'gen_termica_total_mwh', ['2019-05-14', '2019-05-15', '2019-05-16', '2019-05-17'])"
   ]
  },
  {
   "cell_type": "code",
   "execution_count": 68,
   "metadata": {},
   "outputs": [
    {
     "data": {
      "text/plain": [
       "<matplotlib.axes._subplots.AxesSubplot at 0x7fa053ac3f98>"
      ]
     },
     "execution_count": 68,
     "metadata": {},
     "output_type": "execute_result"
    },
    {
     "data": {
      "image/png": "[encoded data removed]",
      "text/plain": [
       "<Figure size 432x288 with 1 Axes>"
      ]
     },
     "metadata": {
      "needs_background": "light"
     },
     "output_type": "display_data"
    }
   ],
   "source": [
    "time_dist('SE106G216', 'gen_termica_total_mwh', ['2019-05-14', '2019-05-15', '2019-05-16', '2019-05-17'])"
   ]
  },
  {
   "cell_type": "markdown",
   "metadata": {},
   "source": [
    "Se observa que el peak de la segunda subestación calza con el punto más bajo de la primera. El primer caso tiene una generación térmica total mucho más alta que el segundo caso, lo cual se deduce observando el rango del eje y. Así, la baja es mucho más importante el día 16 en el caso 1 que el alza que se produce en el segundo caso el mismo día. De esta manera, aunque aparentemente tengan un comportamiento diferente, puede que ajustados a la misma escala la variación hacia el alza en el segundo caso sea apenas perceptible, siendo la baja un patrón de todas formas específico del primer caso."
   ]
  },
  {
   "cell_type": "markdown",
   "metadata": {},
   "source": [
    "### 5. Predicción de desviaciones del costo marginal: modelo 1\n",
    "\n",
    "\n",
    "- Crea una variable target que sea igual a cero cuando la variable cmg_desv_pct esté en el rango [-15,15], e igual uno para cualquier otro caso. Hint: recuerda que existen valores infinitos.\n",
    "- Ahora crea los siguientes features:\n",
    "    - en_total_mwh: suma de las cinco series de generación.\n",
    "    - lags y estadísticas acumuladas (por ejemplo: promedio, varianza) de las variables que consideres relevantes.\n",
    "- Entrena un modelo que prediga si existirá una desviación en la hora siguiente. Adecúa la variable target para hacer esto posible.\n",
    "- ¿Cómo le va a tu modelo? ¿En qué métricas te basas y por qué?\n",
    "- ¿Cuales son las variables más importantes que considera este modelo?"
   ]
  },
  {
   "cell_type": "markdown",
   "metadata": {},
   "source": [
    "Reemplazamos los valores infinitos de la columna 'cmg_desv_pct' por un '100' ya que en estos casos el valor real es un 100% menos que el valor programado."
   ]
  },
  {
   "cell_type": "code",
   "execution_count": 69,
   "metadata": {},
   "outputs": [],
   "source": [
    "df_pred['en_total_mwh'] = df_pred[['gen_eolica_total_mwh', 'gen_geotermica_total_mwh', 'gen_hidraulica_total_mwh', 'gen_solar_total_mwh', 'gen_termica_total_mwh']].sum(axis=1)\n",
    "df_pred['cmg_desv_pct'] = df_pred['cmg_desv_pct'].replace([np.inf], 100)\n",
    "\n",
    "df_pred['cmg_desv_cat'] = 0\n",
    "df_pred.loc[np.abs(df_pred['cmg_desv_pct']) > 15, 'cmg_desv_cat'] = 1"
   ]
  },
  {
   "cell_type": "code",
   "execution_count": 70,
   "metadata": {},
   "outputs": [
    {
     "data": {
      "text/plain": [
       "(112779, 23)"
      ]
     },
     "execution_count": 70,
     "metadata": {},
     "output_type": "execute_result"
    }
   ],
   "source": [
    "df_pred.shape"
   ]
  },
  {
   "cell_type": "code",
   "execution_count": 71,
   "metadata": {},
   "outputs": [
    {
     "data": {
      "text/html": [
       "<div>\n",
       "<style scoped>\n",
       "    .dataframe tbody tr th:only-of-type {\n",
       "        vertical-align: middle;\n",
       "    }\n",
       "\n",
       "    .dataframe tbody tr th {\n",
       "        vertical-align: top;\n",
       "    }\n",
       "\n",
       "    .dataframe thead th {\n",
       "        text-align: right;\n",
       "    }\n",
       "</style>\n",
       "<table border=\"1\" class=\"dataframe\">\n",
       "  <thead>\n",
       "    <tr style=\"text-align: right;\">\n",
       "      <th></th>\n",
       "      <th>nemotecnico_se</th>\n",
       "      <th>fecha</th>\n",
       "      <th>hora</th>\n",
       "      <th>gen_eolica_total_mwh</th>\n",
       "      <th>gen_geotermica_total_mwh</th>\n",
       "      <th>gen_hidraulica_total_mwh</th>\n",
       "      <th>gen_solar_total_mwh</th>\n",
       "      <th>gen_termica_total_mwh</th>\n",
       "      <th>cmg_real</th>\n",
       "      <th>cmg_prog</th>\n",
       "      <th>...</th>\n",
       "      <th>demanda_mwh</th>\n",
       "      <th>cap_inst_mw</th>\n",
       "      <th>mes</th>\n",
       "      <th>dia_mes</th>\n",
       "      <th>anio</th>\n",
       "      <th>dia_semana</th>\n",
       "      <th>semana_anio</th>\n",
       "      <th>findesemana</th>\n",
       "      <th>en_total_mwh</th>\n",
       "      <th>cmg_desv_cat</th>\n",
       "    </tr>\n",
       "  </thead>\n",
       "  <tbody>\n",
       "    <tr>\n",
       "      <th>99683</th>\n",
       "      <td>SE106G216</td>\n",
       "      <td>2019-01-01</td>\n",
       "      <td>17</td>\n",
       "      <td>NaN</td>\n",
       "      <td>NaN</td>\n",
       "      <td>NaN</td>\n",
       "      <td>NaN</td>\n",
       "      <td>15.42</td>\n",
       "      <td>0.000000</td>\n",
       "      <td>46.151229</td>\n",
       "      <td>...</td>\n",
       "      <td>4283907</td>\n",
       "      <td>18.4200</td>\n",
       "      <td>1</td>\n",
       "      <td>1</td>\n",
       "      <td>2019</td>\n",
       "      <td>1</td>\n",
       "      <td>01</td>\n",
       "      <td>1</td>\n",
       "      <td>15.420000</td>\n",
       "      <td>1</td>\n",
       "    </tr>\n",
       "    <tr>\n",
       "      <th>88642</th>\n",
       "      <td>SE081T005</td>\n",
       "      <td>2019-01-01</td>\n",
       "      <td>14</td>\n",
       "      <td>NaN</td>\n",
       "      <td>NaN</td>\n",
       "      <td>NaN</td>\n",
       "      <td>0.836306</td>\n",
       "      <td>0.00</td>\n",
       "      <td>48.120000</td>\n",
       "      <td>42.840158</td>\n",
       "      <td>...</td>\n",
       "      <td>4823603</td>\n",
       "      <td>11.9950</td>\n",
       "      <td>1</td>\n",
       "      <td>1</td>\n",
       "      <td>2019</td>\n",
       "      <td>1</td>\n",
       "      <td>01</td>\n",
       "      <td>1</td>\n",
       "      <td>0.836306</td>\n",
       "      <td>0</td>\n",
       "    </tr>\n",
       "    <tr>\n",
       "      <th>88641</th>\n",
       "      <td>SE081T005</td>\n",
       "      <td>2019-01-01</td>\n",
       "      <td>13</td>\n",
       "      <td>NaN</td>\n",
       "      <td>NaN</td>\n",
       "      <td>NaN</td>\n",
       "      <td>3.064950</td>\n",
       "      <td>0.00</td>\n",
       "      <td>48.150000</td>\n",
       "      <td>44.090868</td>\n",
       "      <td>...</td>\n",
       "      <td>8263271</td>\n",
       "      <td>11.9950</td>\n",
       "      <td>1</td>\n",
       "      <td>1</td>\n",
       "      <td>2019</td>\n",
       "      <td>1</td>\n",
       "      <td>01</td>\n",
       "      <td>1</td>\n",
       "      <td>3.064950</td>\n",
       "      <td>0</td>\n",
       "    </tr>\n",
       "    <tr>\n",
       "      <th>88640</th>\n",
       "      <td>SE081T005</td>\n",
       "      <td>2019-01-01</td>\n",
       "      <td>12</td>\n",
       "      <td>NaN</td>\n",
       "      <td>NaN</td>\n",
       "      <td>NaN</td>\n",
       "      <td>3.067111</td>\n",
       "      <td>0.00</td>\n",
       "      <td>48.150000</td>\n",
       "      <td>44.670536</td>\n",
       "      <td>...</td>\n",
       "      <td>8230299</td>\n",
       "      <td>11.9950</td>\n",
       "      <td>1</td>\n",
       "      <td>1</td>\n",
       "      <td>2019</td>\n",
       "      <td>1</td>\n",
       "      <td>01</td>\n",
       "      <td>1</td>\n",
       "      <td>3.067111</td>\n",
       "      <td>0</td>\n",
       "    </tr>\n",
       "    <tr>\n",
       "      <th>88639</th>\n",
       "      <td>SE081T005</td>\n",
       "      <td>2019-01-01</td>\n",
       "      <td>11</td>\n",
       "      <td>NaN</td>\n",
       "      <td>NaN</td>\n",
       "      <td>NaN</td>\n",
       "      <td>3.069758</td>\n",
       "      <td>0.00</td>\n",
       "      <td>48.150000</td>\n",
       "      <td>45.629092</td>\n",
       "      <td>...</td>\n",
       "      <td>7782978</td>\n",
       "      <td>11.9950</td>\n",
       "      <td>1</td>\n",
       "      <td>1</td>\n",
       "      <td>2019</td>\n",
       "      <td>1</td>\n",
       "      <td>01</td>\n",
       "      <td>1</td>\n",
       "      <td>3.069758</td>\n",
       "      <td>0</td>\n",
       "    </tr>\n",
       "    <tr>\n",
       "      <th>...</th>\n",
       "      <td>...</td>\n",
       "      <td>...</td>\n",
       "      <td>...</td>\n",
       "      <td>...</td>\n",
       "      <td>...</td>\n",
       "      <td>...</td>\n",
       "      <td>...</td>\n",
       "      <td>...</td>\n",
       "      <td>...</td>\n",
       "      <td>...</td>\n",
       "      <td>...</td>\n",
       "      <td>...</td>\n",
       "      <td>...</td>\n",
       "      <td>...</td>\n",
       "      <td>...</td>\n",
       "      <td>...</td>\n",
       "      <td>...</td>\n",
       "      <td>...</td>\n",
       "      <td>...</td>\n",
       "      <td>...</td>\n",
       "      <td>...</td>\n",
       "    </tr>\n",
       "    <tr>\n",
       "      <th>47772</th>\n",
       "      <td>SE014T002</td>\n",
       "      <td>2019-06-30</td>\n",
       "      <td>4</td>\n",
       "      <td>NaN</td>\n",
       "      <td>NaN</td>\n",
       "      <td>NaN</td>\n",
       "      <td>0.000000</td>\n",
       "      <td>0.00</td>\n",
       "      <td>37.795000</td>\n",
       "      <td>37.936034</td>\n",
       "      <td>...</td>\n",
       "      <td>71222806</td>\n",
       "      <td>83.4631</td>\n",
       "      <td>6</td>\n",
       "      <td>30</td>\n",
       "      <td>2019</td>\n",
       "      <td>6</td>\n",
       "      <td>26</td>\n",
       "      <td>0</td>\n",
       "      <td>0.000000</td>\n",
       "      <td>0</td>\n",
       "    </tr>\n",
       "    <tr>\n",
       "      <th>47771</th>\n",
       "      <td>SE014T002</td>\n",
       "      <td>2019-06-30</td>\n",
       "      <td>3</td>\n",
       "      <td>NaN</td>\n",
       "      <td>NaN</td>\n",
       "      <td>NaN</td>\n",
       "      <td>0.000000</td>\n",
       "      <td>0.00</td>\n",
       "      <td>38.035000</td>\n",
       "      <td>38.269629</td>\n",
       "      <td>...</td>\n",
       "      <td>76980171</td>\n",
       "      <td>83.4631</td>\n",
       "      <td>6</td>\n",
       "      <td>30</td>\n",
       "      <td>2019</td>\n",
       "      <td>6</td>\n",
       "      <td>26</td>\n",
       "      <td>0</td>\n",
       "      <td>0.000000</td>\n",
       "      <td>0</td>\n",
       "    </tr>\n",
       "    <tr>\n",
       "      <th>47770</th>\n",
       "      <td>SE014T002</td>\n",
       "      <td>2019-06-30</td>\n",
       "      <td>2</td>\n",
       "      <td>NaN</td>\n",
       "      <td>NaN</td>\n",
       "      <td>NaN</td>\n",
       "      <td>0.000000</td>\n",
       "      <td>0.00</td>\n",
       "      <td>38.035000</td>\n",
       "      <td>38.671572</td>\n",
       "      <td>...</td>\n",
       "      <td>76290951</td>\n",
       "      <td>83.4631</td>\n",
       "      <td>6</td>\n",
       "      <td>30</td>\n",
       "      <td>2019</td>\n",
       "      <td>6</td>\n",
       "      <td>26</td>\n",
       "      <td>0</td>\n",
       "      <td>0.000000</td>\n",
       "      <td>0</td>\n",
       "    </tr>\n",
       "    <tr>\n",
       "      <th>43569</th>\n",
       "      <td>SE009T002</td>\n",
       "      <td>2019-06-30</td>\n",
       "      <td>24</td>\n",
       "      <td>NaN</td>\n",
       "      <td>NaN</td>\n",
       "      <td>NaN</td>\n",
       "      <td>NaN</td>\n",
       "      <td>0.00</td>\n",
       "      <td>46.843333</td>\n",
       "      <td>42.412289</td>\n",
       "      <td>...</td>\n",
       "      <td>1118279</td>\n",
       "      <td>153.8800</td>\n",
       "      <td>6</td>\n",
       "      <td>30</td>\n",
       "      <td>2019</td>\n",
       "      <td>6</td>\n",
       "      <td>26</td>\n",
       "      <td>0</td>\n",
       "      <td>0.000000</td>\n",
       "      <td>0</td>\n",
       "    </tr>\n",
       "    <tr>\n",
       "      <th>112778</th>\n",
       "      <td>SE170T005</td>\n",
       "      <td>2019-06-30</td>\n",
       "      <td>24</td>\n",
       "      <td>NaN</td>\n",
       "      <td>NaN</td>\n",
       "      <td>NaN</td>\n",
       "      <td>NaN</td>\n",
       "      <td>0.70</td>\n",
       "      <td>44.100000</td>\n",
       "      <td>36.197329</td>\n",
       "      <td>...</td>\n",
       "      <td>6888256</td>\n",
       "      <td>30.1400</td>\n",
       "      <td>6</td>\n",
       "      <td>30</td>\n",
       "      <td>2019</td>\n",
       "      <td>6</td>\n",
       "      <td>26</td>\n",
       "      <td>0</td>\n",
       "      <td>0.700000</td>\n",
       "      <td>1</td>\n",
       "    </tr>\n",
       "  </tbody>\n",
       "</table>\n",
       "<p>112779 rows × 23 columns</p>\n",
       "</div>"
      ],
      "text/plain": [
       "       nemotecnico_se      fecha  hora  gen_eolica_total_mwh  \\\n",
       "99683       SE106G216 2019-01-01    17                   NaN   \n",
       "88642       SE081T005 2019-01-01    14                   NaN   \n",
       "88641       SE081T005 2019-01-01    13                   NaN   \n",
       "88640       SE081T005 2019-01-01    12                   NaN   \n",
       "88639       SE081T005 2019-01-01    11                   NaN   \n",
       "...               ...        ...   ...                   ...   \n",
       "47772       SE014T002 2019-06-30     4                   NaN   \n",
       "47771       SE014T002 2019-06-30     3                   NaN   \n",
       "47770       SE014T002 2019-06-30     2                   NaN   \n",
       "43569       SE009T002 2019-06-30    24                   NaN   \n",
       "112778      SE170T005 2019-06-30    24                   NaN   \n",
       "\n",
       "        gen_geotermica_total_mwh  gen_hidraulica_total_mwh  \\\n",
       "99683                        NaN                       NaN   \n",
       "88642                        NaN                       NaN   \n",
       "88641                        NaN                       NaN   \n",
       "88640                        NaN                       NaN   \n",
       "88639                        NaN                       NaN   \n",
       "...                          ...                       ...   \n",
       "47772                        NaN                       NaN   \n",
       "47771                        NaN                       NaN   \n",
       "47770                        NaN                       NaN   \n",
       "43569                        NaN                       NaN   \n",
       "112778                       NaN                       NaN   \n",
       "\n",
       "        gen_solar_total_mwh  gen_termica_total_mwh   cmg_real   cmg_prog  ...  \\\n",
       "99683                   NaN                  15.42   0.000000  46.151229  ...   \n",
       "88642              0.836306                   0.00  48.120000  42.840158  ...   \n",
       "88641              3.064950                   0.00  48.150000  44.090868  ...   \n",
       "88640              3.067111                   0.00  48.150000  44.670536  ...   \n",
       "88639              3.069758                   0.00  48.150000  45.629092  ...   \n",
       "...                     ...                    ...        ...        ...  ...   \n",
       "47772              0.000000                   0.00  37.795000  37.936034  ...   \n",
       "47771              0.000000                   0.00  38.035000  38.269629  ...   \n",
       "47770              0.000000                   0.00  38.035000  38.671572  ...   \n",
       "43569                   NaN                   0.00  46.843333  42.412289  ...   \n",
       "112778                  NaN                   0.70  44.100000  36.197329  ...   \n",
       "\n",
       "        demanda_mwh  cap_inst_mw  mes  dia_mes  anio  dia_semana  semana_anio  \\\n",
       "99683       4283907      18.4200    1        1  2019           1           01   \n",
       "88642       4823603      11.9950    1        1  2019           1           01   \n",
       "88641       8263271      11.9950    1        1  2019           1           01   \n",
       "88640       8230299      11.9950    1        1  2019           1           01   \n",
       "88639       7782978      11.9950    1        1  2019           1           01   \n",
       "...             ...          ...  ...      ...   ...         ...          ...   \n",
       "47772      71222806      83.4631    6       30  2019           6           26   \n",
       "47771      76980171      83.4631    6       30  2019           6           26   \n",
       "47770      76290951      83.4631    6       30  2019           6           26   \n",
       "43569       1118279     153.8800    6       30  2019           6           26   \n",
       "112778      6888256      30.1400    6       30  2019           6           26   \n",
       "\n",
       "        findesemana  en_total_mwh cmg_desv_cat  \n",
       "99683             1     15.420000            1  \n",
       "88642             1      0.836306            0  \n",
       "88641             1      3.064950            0  \n",
       "88640             1      3.067111            0  \n",
       "88639             1      3.069758            0  \n",
       "...             ...           ...          ...  \n",
       "47772             0      0.000000            0  \n",
       "47771             0      0.000000            0  \n",
       "47770             0      0.000000            0  \n",
       "43569             0      0.000000            0  \n",
       "112778            0      0.700000            1  \n",
       "\n",
       "[112779 rows x 23 columns]"
      ]
     },
     "execution_count": 71,
     "metadata": {},
     "output_type": "execute_result"
    }
   ],
   "source": [
    "df_pred.sort_values('fecha')"
   ]
  },
  {
   "cell_type": "code",
   "execution_count": 72,
   "metadata": {},
   "outputs": [],
   "source": [
    "#df_pred2 = df_pred.drop('nemotecnico_se', axis = 1)\n",
    "df_pred2 = df_pred.set_index('fecha')"
   ]
  },
  {
   "cell_type": "markdown",
   "metadata": {},
   "source": [
    "Rellenamos NA's con valores 0. Debería evaluarse estudiando mejor el caso cuál podría ser un tratamiento alternativo de los NA."
   ]
  },
  {
   "cell_type": "code",
   "execution_count": 73,
   "metadata": {},
   "outputs": [
    {
     "data": {
      "text/plain": [
       "nemotecnico_se               object\n",
       "hora                          int64\n",
       "gen_eolica_total_mwh        float64\n",
       "gen_geotermica_total_mwh    float64\n",
       "gen_hidraulica_total_mwh    float64\n",
       "gen_solar_total_mwh         float64\n",
       "gen_termica_total_mwh       float64\n",
       "cmg_real                    float64\n",
       "cmg_prog                    float64\n",
       "cmg_desv                    float64\n",
       "cmg_desv_pct                float64\n",
       "n_barras                      int64\n",
       "demanda_mwh                   int64\n",
       "cap_inst_mw                 float64\n",
       "mes                           int64\n",
       "dia_mes                       int64\n",
       "anio                          int64\n",
       "dia_semana                    int64\n",
       "semana_anio                 float64\n",
       "findesemana                   int64\n",
       "en_total_mwh                float64\n",
       "cmg_desv_cat                  int64\n",
       "dtype: object"
      ]
     },
     "execution_count": 73,
     "metadata": {},
     "output_type": "execute_result"
    }
   ],
   "source": [
    "df_pred2['semana_anio'] = df_pred['semana_anio'].astype('int64')\n",
    "df_pred2.fillna(0, inplace=True)\n",
    "df_pred2.dtypes"
   ]
  },
  {
   "cell_type": "markdown",
   "metadata": {},
   "source": [
    "Ahora quitaré las variables que se utilizaron para construir la variable target, de lo contrario sería muy similar a predecir la variable target consigo misma. Quitaremos las variables 'cmg_desv_pct', 'cmg_desv' y 'cmg_prog'."
   ]
  },
  {
   "cell_type": "code",
   "execution_count": 74,
   "metadata": {},
   "outputs": [],
   "source": [
    "df_pred2 = df_pred2.drop(['cmg_desv_pct', 'cmg_desv', 'cmg_prog', 'nemotecnico_se'], axis = 1)"
   ]
  },
  {
   "cell_type": "code",
   "execution_count": 75,
   "metadata": {},
   "outputs": [
    {
     "data": {
      "text/plain": [
       "(112779, 18)"
      ]
     },
     "execution_count": 75,
     "metadata": {},
     "output_type": "execute_result"
    }
   ],
   "source": [
    "df_pred2.shape"
   ]
  },
  {
   "cell_type": "code",
   "execution_count": 76,
   "metadata": {},
   "outputs": [
    {
     "data": {
      "text/html": [
       "<div>\n",
       "<style scoped>\n",
       "    .dataframe tbody tr th:only-of-type {\n",
       "        vertical-align: middle;\n",
       "    }\n",
       "\n",
       "    .dataframe tbody tr th {\n",
       "        vertical-align: top;\n",
       "    }\n",
       "\n",
       "    .dataframe thead th {\n",
       "        text-align: right;\n",
       "    }\n",
       "</style>\n",
       "<table border=\"1\" class=\"dataframe\">\n",
       "  <thead>\n",
       "    <tr style=\"text-align: right;\">\n",
       "      <th></th>\n",
       "      <th>cmg_desv_cat</th>\n",
       "    </tr>\n",
       "    <tr>\n",
       "      <th>fecha</th>\n",
       "      <th></th>\n",
       "    </tr>\n",
       "  </thead>\n",
       "  <tbody>\n",
       "    <tr>\n",
       "      <th>2019-01-04</th>\n",
       "      <td>0</td>\n",
       "    </tr>\n",
       "    <tr>\n",
       "      <th>2019-01-04</th>\n",
       "      <td>0</td>\n",
       "    </tr>\n",
       "    <tr>\n",
       "      <th>2019-01-04</th>\n",
       "      <td>0</td>\n",
       "    </tr>\n",
       "    <tr>\n",
       "      <th>2019-01-04</th>\n",
       "      <td>1</td>\n",
       "    </tr>\n",
       "    <tr>\n",
       "      <th>2019-01-04</th>\n",
       "      <td>1</td>\n",
       "    </tr>\n",
       "    <tr>\n",
       "      <th>...</th>\n",
       "      <td>...</td>\n",
       "    </tr>\n",
       "    <tr>\n",
       "      <th>2019-06-30</th>\n",
       "      <td>0</td>\n",
       "    </tr>\n",
       "    <tr>\n",
       "      <th>2019-06-30</th>\n",
       "      <td>0</td>\n",
       "    </tr>\n",
       "    <tr>\n",
       "      <th>2019-06-30</th>\n",
       "      <td>0</td>\n",
       "    </tr>\n",
       "    <tr>\n",
       "      <th>2019-06-30</th>\n",
       "      <td>0</td>\n",
       "    </tr>\n",
       "    <tr>\n",
       "      <th>2019-06-30</th>\n",
       "      <td>1</td>\n",
       "    </tr>\n",
       "  </tbody>\n",
       "</table>\n",
       "<p>112779 rows × 1 columns</p>\n",
       "</div>"
      ],
      "text/plain": [
       "            cmg_desv_cat\n",
       "fecha                   \n",
       "2019-01-04             0\n",
       "2019-01-04             0\n",
       "2019-01-04             0\n",
       "2019-01-04             1\n",
       "2019-01-04             1\n",
       "...                  ...\n",
       "2019-06-30             0\n",
       "2019-06-30             0\n",
       "2019-06-30             0\n",
       "2019-06-30             0\n",
       "2019-06-30             1\n",
       "\n",
       "[112779 rows x 1 columns]"
      ]
     },
     "execution_count": 76,
     "metadata": {},
     "output_type": "execute_result"
    }
   ],
   "source": [
    "df_pred2.iloc[:,17:18]"
   ]
  },
  {
   "cell_type": "code",
   "execution_count": 77,
   "metadata": {},
   "outputs": [
    {
     "data": {
      "text/plain": [
       "array([0., 0., 0., ..., 0., 0., 1.])"
      ]
     },
     "execution_count": 77,
     "metadata": {},
     "output_type": "execute_result"
    }
   ],
   "source": [
    "from sklearn.preprocessing import LabelEncoder\n",
    "values = df_pred2.values\n",
    "encoder = LabelEncoder()\n",
    "\n",
    "values[:,17] = encoder.fit_transform(values[:,17])\n",
    "values[:,17]"
   ]
  },
  {
   "cell_type": "code",
   "execution_count": 78,
   "metadata": {},
   "outputs": [
    {
     "data": {
      "text/html": [
       "<div>\n",
       "<style scoped>\n",
       "    .dataframe tbody tr th:only-of-type {\n",
       "        vertical-align: middle;\n",
       "    }\n",
       "\n",
       "    .dataframe tbody tr th {\n",
       "        vertical-align: top;\n",
       "    }\n",
       "\n",
       "    .dataframe thead th {\n",
       "        text-align: right;\n",
       "    }\n",
       "</style>\n",
       "<table border=\"1\" class=\"dataframe\">\n",
       "  <thead>\n",
       "    <tr style=\"text-align: right;\">\n",
       "      <th></th>\n",
       "      <th>hora</th>\n",
       "      <th>gen_eolica_total_mwh</th>\n",
       "      <th>gen_geotermica_total_mwh</th>\n",
       "      <th>gen_hidraulica_total_mwh</th>\n",
       "      <th>gen_solar_total_mwh</th>\n",
       "      <th>gen_termica_total_mwh</th>\n",
       "      <th>cmg_real</th>\n",
       "      <th>n_barras</th>\n",
       "      <th>demanda_mwh</th>\n",
       "      <th>cap_inst_mw</th>\n",
       "      <th>mes</th>\n",
       "      <th>dia_mes</th>\n",
       "      <th>anio</th>\n",
       "      <th>dia_semana</th>\n",
       "      <th>semana_anio</th>\n",
       "      <th>findesemana</th>\n",
       "      <th>en_total_mwh</th>\n",
       "      <th>cmg_desv_cat</th>\n",
       "    </tr>\n",
       "    <tr>\n",
       "      <th>fecha</th>\n",
       "      <th></th>\n",
       "      <th></th>\n",
       "      <th></th>\n",
       "      <th></th>\n",
       "      <th></th>\n",
       "      <th></th>\n",
       "      <th></th>\n",
       "      <th></th>\n",
       "      <th></th>\n",
       "      <th></th>\n",
       "      <th></th>\n",
       "      <th></th>\n",
       "      <th></th>\n",
       "      <th></th>\n",
       "      <th></th>\n",
       "      <th></th>\n",
       "      <th></th>\n",
       "      <th></th>\n",
       "    </tr>\n",
       "  </thead>\n",
       "  <tbody>\n",
       "    <tr>\n",
       "      <th>2019-01-04</th>\n",
       "      <td>1</td>\n",
       "      <td>0.0</td>\n",
       "      <td>0.0</td>\n",
       "      <td>0.0</td>\n",
       "      <td>0.0</td>\n",
       "      <td>0.0</td>\n",
       "      <td>56.2</td>\n",
       "      <td>2</td>\n",
       "      <td>1210767</td>\n",
       "      <td>13.20785</td>\n",
       "      <td>1</td>\n",
       "      <td>4</td>\n",
       "      <td>2019</td>\n",
       "      <td>4</td>\n",
       "      <td>0.0</td>\n",
       "      <td>0</td>\n",
       "      <td>0.0</td>\n",
       "      <td>0</td>\n",
       "    </tr>\n",
       "    <tr>\n",
       "      <th>2019-01-04</th>\n",
       "      <td>2</td>\n",
       "      <td>0.0</td>\n",
       "      <td>0.0</td>\n",
       "      <td>0.0</td>\n",
       "      <td>0.0</td>\n",
       "      <td>0.0</td>\n",
       "      <td>56.2</td>\n",
       "      <td>2</td>\n",
       "      <td>113232</td>\n",
       "      <td>13.20785</td>\n",
       "      <td>1</td>\n",
       "      <td>4</td>\n",
       "      <td>2019</td>\n",
       "      <td>4</td>\n",
       "      <td>0.0</td>\n",
       "      <td>0</td>\n",
       "      <td>0.0</td>\n",
       "      <td>0</td>\n",
       "    </tr>\n",
       "    <tr>\n",
       "      <th>2019-01-04</th>\n",
       "      <td>3</td>\n",
       "      <td>0.0</td>\n",
       "      <td>0.0</td>\n",
       "      <td>0.0</td>\n",
       "      <td>0.0</td>\n",
       "      <td>0.0</td>\n",
       "      <td>56.2</td>\n",
       "      <td>2</td>\n",
       "      <td>1089415</td>\n",
       "      <td>13.20785</td>\n",
       "      <td>1</td>\n",
       "      <td>4</td>\n",
       "      <td>2019</td>\n",
       "      <td>4</td>\n",
       "      <td>0.0</td>\n",
       "      <td>0</td>\n",
       "      <td>0.0</td>\n",
       "      <td>0</td>\n",
       "    </tr>\n",
       "    <tr>\n",
       "      <th>2019-01-04</th>\n",
       "      <td>4</td>\n",
       "      <td>0.0</td>\n",
       "      <td>0.0</td>\n",
       "      <td>0.0</td>\n",
       "      <td>0.0</td>\n",
       "      <td>0.0</td>\n",
       "      <td>56.2</td>\n",
       "      <td>2</td>\n",
       "      <td>1096867</td>\n",
       "      <td>13.20785</td>\n",
       "      <td>1</td>\n",
       "      <td>4</td>\n",
       "      <td>2019</td>\n",
       "      <td>4</td>\n",
       "      <td>0.0</td>\n",
       "      <td>0</td>\n",
       "      <td>0.0</td>\n",
       "      <td>1</td>\n",
       "    </tr>\n",
       "    <tr>\n",
       "      <th>2019-01-04</th>\n",
       "      <td>5</td>\n",
       "      <td>0.0</td>\n",
       "      <td>0.0</td>\n",
       "      <td>0.0</td>\n",
       "      <td>0.0</td>\n",
       "      <td>0.0</td>\n",
       "      <td>56.2</td>\n",
       "      <td>2</td>\n",
       "      <td>1071851</td>\n",
       "      <td>13.20785</td>\n",
       "      <td>1</td>\n",
       "      <td>4</td>\n",
       "      <td>2019</td>\n",
       "      <td>4</td>\n",
       "      <td>0.0</td>\n",
       "      <td>0</td>\n",
       "      <td>0.0</td>\n",
       "      <td>1</td>\n",
       "    </tr>\n",
       "  </tbody>\n",
       "</table>\n",
       "</div>"
      ],
      "text/plain": [
       "            hora  gen_eolica_total_mwh  gen_geotermica_total_mwh  \\\n",
       "fecha                                                              \n",
       "2019-01-04     1                   0.0                       0.0   \n",
       "2019-01-04     2                   0.0                       0.0   \n",
       "2019-01-04     3                   0.0                       0.0   \n",
       "2019-01-04     4                   0.0                       0.0   \n",
       "2019-01-04     5                   0.0                       0.0   \n",
       "\n",
       "            gen_hidraulica_total_mwh  gen_solar_total_mwh  \\\n",
       "fecha                                                       \n",
       "2019-01-04                       0.0                  0.0   \n",
       "2019-01-04                       0.0                  0.0   \n",
       "2019-01-04                       0.0                  0.0   \n",
       "2019-01-04                       0.0                  0.0   \n",
       "2019-01-04                       0.0                  0.0   \n",
       "\n",
       "            gen_termica_total_mwh  cmg_real  n_barras  demanda_mwh  \\\n",
       "fecha                                                                \n",
       "2019-01-04                    0.0      56.2         2      1210767   \n",
       "2019-01-04                    0.0      56.2         2       113232   \n",
       "2019-01-04                    0.0      56.2         2      1089415   \n",
       "2019-01-04                    0.0      56.2         2      1096867   \n",
       "2019-01-04                    0.0      56.2         2      1071851   \n",
       "\n",
       "            cap_inst_mw  mes  dia_mes  anio  dia_semana  semana_anio  \\\n",
       "fecha                                                                  \n",
       "2019-01-04     13.20785    1        4  2019           4          0.0   \n",
       "2019-01-04     13.20785    1        4  2019           4          0.0   \n",
       "2019-01-04     13.20785    1        4  2019           4          0.0   \n",
       "2019-01-04     13.20785    1        4  2019           4          0.0   \n",
       "2019-01-04     13.20785    1        4  2019           4          0.0   \n",
       "\n",
       "            findesemana  en_total_mwh  cmg_desv_cat  \n",
       "fecha                                                \n",
       "2019-01-04            0           0.0             0  \n",
       "2019-01-04            0           0.0             0  \n",
       "2019-01-04            0           0.0             0  \n",
       "2019-01-04            0           0.0             1  \n",
       "2019-01-04            0           0.0             1  "
      ]
     },
     "execution_count": 78,
     "metadata": {},
     "output_type": "execute_result"
    }
   ],
   "source": [
    "df_pred2.head()"
   ]
  },
  {
   "cell_type": "markdown",
   "metadata": {},
   "source": [
    "A continuación se comprueba el desbalance de las categorías, por lo que se hará un oversampling más adelante."
   ]
  },
  {
   "cell_type": "code",
   "execution_count": 79,
   "metadata": {},
   "outputs": [
    {
     "data": {
      "text/plain": [
       "0    84288\n",
       "1    28491\n",
       "Name: cmg_desv_cat, dtype: int64"
      ]
     },
     "execution_count": 79,
     "metadata": {},
     "output_type": "execute_result"
    }
   ],
   "source": [
    "# se deduce de aquí que hay un desbalance favorable a los ceros, es decir hacia los no fugados\n",
    "df_pred2['cmg_desv_cat'].astype('category').value_counts()"
   ]
  },
  {
   "cell_type": "markdown",
   "metadata": {},
   "source": [
    "#### Random Forest\n",
    "\n",
    "Entrenaremos un modelo de Random Forest que prediga si existirá una desviación en la hora siguiente. Para ello tomaremos las variables evaluadas en la hora anterior para predecir la hora siguiente. De esta forma se usará 1 lag para transformar las variables.\n",
    "Se recomienda al equipo consultor realizar las correcciones pertinentes a la data para corregir problemas asociados a la dependencia que podría existir en las variables independientes, ya que los modelos de Random Forest asumen independencia entre estos. "
   ]
  },
  {
   "cell_type": "code",
   "execution_count": 80,
   "metadata": {},
   "outputs": [],
   "source": [
    "# Esta función fue extraída de https://www.kaggle.com/lokeshkumarn/timeseries-multivariate\n",
    "def series_to_supervised(data, n_in=1, n_out=1, dropnan=True):\n",
    "    n_vars = 1 if type(data) is list else data.shape[1]\n",
    "    df = pd.DataFrame(data)\n",
    "    cols, names = list(), list()\n",
    "    # secuencia input (t-n, ... t-1)\n",
    "    for i in range(n_in, 0, -1):\n",
    "        cols.append(df.shift(i))\n",
    "        names += [('var%d(t-%d)' % (j+1, i)) for j in range(n_vars)]\n",
    "    # secuencia para el forecast (t, t+1, ... t+n)\n",
    "    for i in range(0, n_out):\n",
    "        cols.append(df.shift(-i))\n",
    "        if i == 0:\n",
    "            names += [('var%d(t)' % (j+1)) for j in range(n_vars)]\n",
    "        else:\n",
    "            names += [('var%d(t+%d)' % (j+1, i)) for j in range(n_vars)]\n",
    "    # unir todo\n",
    "    agg = pd.concat(cols, axis=1)\n",
    "    agg.columns = names\n",
    "    # Botar NA's, aunque ya las rellenamos con 0's asi es que este paso se debería poder omitir\n",
    "    if dropnan:\n",
    "        agg.dropna(inplace=True)\n",
    "    return agg"
   ]
  },
  {
   "cell_type": "markdown",
   "metadata": {},
   "source": [
    "Creamos los lags y ajustamos la data para solo contabilizar las variables medidas en la hora previa. Anteriormente vimos que la subestación podría ayudar a predecir si habrá un desvío o no, así es que mantendremos la presencia de esta variable. "
   ]
  },
  {
   "cell_type": "code",
   "execution_count": 81,
   "metadata": {},
   "outputs": [
    {
     "data": {
      "text/html": [
       "<div>\n",
       "<style scoped>\n",
       "    .dataframe tbody tr th:only-of-type {\n",
       "        vertical-align: middle;\n",
       "    }\n",
       "\n",
       "    .dataframe tbody tr th {\n",
       "        vertical-align: top;\n",
       "    }\n",
       "\n",
       "    .dataframe thead th {\n",
       "        text-align: right;\n",
       "    }\n",
       "</style>\n",
       "<table border=\"1\" class=\"dataframe\">\n",
       "  <thead>\n",
       "    <tr style=\"text-align: right;\">\n",
       "      <th></th>\n",
       "      <th>var1(t-1)</th>\n",
       "      <th>var2(t-1)</th>\n",
       "      <th>var3(t-1)</th>\n",
       "      <th>var4(t-1)</th>\n",
       "      <th>var5(t-1)</th>\n",
       "      <th>var6(t-1)</th>\n",
       "      <th>var7(t-1)</th>\n",
       "      <th>var8(t-1)</th>\n",
       "      <th>var9(t-1)</th>\n",
       "      <th>var10(t-1)</th>\n",
       "      <th>var11(t-1)</th>\n",
       "      <th>var12(t-1)</th>\n",
       "      <th>var13(t-1)</th>\n",
       "      <th>var14(t-1)</th>\n",
       "      <th>var15(t-1)</th>\n",
       "      <th>var16(t-1)</th>\n",
       "      <th>var17(t-1)</th>\n",
       "      <th>var18(t-1)</th>\n",
       "      <th>var18(t)</th>\n",
       "    </tr>\n",
       "  </thead>\n",
       "  <tbody>\n",
       "    <tr>\n",
       "      <th>1</th>\n",
       "      <td>1.0</td>\n",
       "      <td>0.0</td>\n",
       "      <td>0.0</td>\n",
       "      <td>0.0</td>\n",
       "      <td>0.0</td>\n",
       "      <td>0.0</td>\n",
       "      <td>56.2</td>\n",
       "      <td>2.0</td>\n",
       "      <td>1210767.0</td>\n",
       "      <td>13.20785</td>\n",
       "      <td>1.0</td>\n",
       "      <td>4.0</td>\n",
       "      <td>2019.0</td>\n",
       "      <td>4.0</td>\n",
       "      <td>0.0</td>\n",
       "      <td>0.0</td>\n",
       "      <td>0.0</td>\n",
       "      <td>0.0</td>\n",
       "      <td>0.0</td>\n",
       "    </tr>\n",
       "    <tr>\n",
       "      <th>2</th>\n",
       "      <td>2.0</td>\n",
       "      <td>0.0</td>\n",
       "      <td>0.0</td>\n",
       "      <td>0.0</td>\n",
       "      <td>0.0</td>\n",
       "      <td>0.0</td>\n",
       "      <td>56.2</td>\n",
       "      <td>2.0</td>\n",
       "      <td>113232.0</td>\n",
       "      <td>13.20785</td>\n",
       "      <td>1.0</td>\n",
       "      <td>4.0</td>\n",
       "      <td>2019.0</td>\n",
       "      <td>4.0</td>\n",
       "      <td>0.0</td>\n",
       "      <td>0.0</td>\n",
       "      <td>0.0</td>\n",
       "      <td>0.0</td>\n",
       "      <td>0.0</td>\n",
       "    </tr>\n",
       "    <tr>\n",
       "      <th>3</th>\n",
       "      <td>3.0</td>\n",
       "      <td>0.0</td>\n",
       "      <td>0.0</td>\n",
       "      <td>0.0</td>\n",
       "      <td>0.0</td>\n",
       "      <td>0.0</td>\n",
       "      <td>56.2</td>\n",
       "      <td>2.0</td>\n",
       "      <td>1089415.0</td>\n",
       "      <td>13.20785</td>\n",
       "      <td>1.0</td>\n",
       "      <td>4.0</td>\n",
       "      <td>2019.0</td>\n",
       "      <td>4.0</td>\n",
       "      <td>0.0</td>\n",
       "      <td>0.0</td>\n",
       "      <td>0.0</td>\n",
       "      <td>0.0</td>\n",
       "      <td>1.0</td>\n",
       "    </tr>\n",
       "    <tr>\n",
       "      <th>4</th>\n",
       "      <td>4.0</td>\n",
       "      <td>0.0</td>\n",
       "      <td>0.0</td>\n",
       "      <td>0.0</td>\n",
       "      <td>0.0</td>\n",
       "      <td>0.0</td>\n",
       "      <td>56.2</td>\n",
       "      <td>2.0</td>\n",
       "      <td>1096867.0</td>\n",
       "      <td>13.20785</td>\n",
       "      <td>1.0</td>\n",
       "      <td>4.0</td>\n",
       "      <td>2019.0</td>\n",
       "      <td>4.0</td>\n",
       "      <td>0.0</td>\n",
       "      <td>0.0</td>\n",
       "      <td>0.0</td>\n",
       "      <td>1.0</td>\n",
       "      <td>1.0</td>\n",
       "    </tr>\n",
       "    <tr>\n",
       "      <th>5</th>\n",
       "      <td>5.0</td>\n",
       "      <td>0.0</td>\n",
       "      <td>0.0</td>\n",
       "      <td>0.0</td>\n",
       "      <td>0.0</td>\n",
       "      <td>0.0</td>\n",
       "      <td>56.2</td>\n",
       "      <td>2.0</td>\n",
       "      <td>1071851.0</td>\n",
       "      <td>13.20785</td>\n",
       "      <td>1.0</td>\n",
       "      <td>4.0</td>\n",
       "      <td>2019.0</td>\n",
       "      <td>4.0</td>\n",
       "      <td>0.0</td>\n",
       "      <td>0.0</td>\n",
       "      <td>0.0</td>\n",
       "      <td>1.0</td>\n",
       "      <td>1.0</td>\n",
       "    </tr>\n",
       "  </tbody>\n",
       "</table>\n",
       "</div>"
      ],
      "text/plain": [
       "   var1(t-1)  var2(t-1)  var3(t-1)  var4(t-1)  var5(t-1)  var6(t-1)  \\\n",
       "1        1.0        0.0        0.0        0.0        0.0        0.0   \n",
       "2        2.0        0.0        0.0        0.0        0.0        0.0   \n",
       "3        3.0        0.0        0.0        0.0        0.0        0.0   \n",
       "4        4.0        0.0        0.0        0.0        0.0        0.0   \n",
       "5        5.0        0.0        0.0        0.0        0.0        0.0   \n",
       "\n",
       "   var7(t-1)  var8(t-1)  var9(t-1)  var10(t-1)  var11(t-1)  var12(t-1)  \\\n",
       "1       56.2        2.0  1210767.0    13.20785         1.0         4.0   \n",
       "2       56.2        2.0   113232.0    13.20785         1.0         4.0   \n",
       "3       56.2        2.0  1089415.0    13.20785         1.0         4.0   \n",
       "4       56.2        2.0  1096867.0    13.20785         1.0         4.0   \n",
       "5       56.2        2.0  1071851.0    13.20785         1.0         4.0   \n",
       "\n",
       "   var13(t-1)  var14(t-1)  var15(t-1)  var16(t-1)  var17(t-1)  var18(t-1)  \\\n",
       "1      2019.0         4.0         0.0         0.0         0.0         0.0   \n",
       "2      2019.0         4.0         0.0         0.0         0.0         0.0   \n",
       "3      2019.0         4.0         0.0         0.0         0.0         0.0   \n",
       "4      2019.0         4.0         0.0         0.0         0.0         1.0   \n",
       "5      2019.0         4.0         0.0         0.0         0.0         1.0   \n",
       "\n",
       "   var18(t)  \n",
       "1       0.0  \n",
       "2       0.0  \n",
       "3       1.0  \n",
       "4       1.0  \n",
       "5       1.0  "
      ]
     },
     "execution_count": 81,
     "metadata": {},
     "output_type": "execute_result"
    }
   ],
   "source": [
    "supervised = series_to_supervised(values,1,1)\n",
    "\n",
    "supervised.drop(supervised.columns[[18,19,20,21,22,23,24,25,26,27,28,29,30,31,32,33,34]], axis=1, inplace=True)\n",
    "supervised.head()"
   ]
  },
  {
   "cell_type": "code",
   "execution_count": 82,
   "metadata": {},
   "outputs": [
    {
     "data": {
      "text/plain": [
       "(112778, 19)"
      ]
     },
     "execution_count": 82,
     "metadata": {},
     "output_type": "execute_result"
    }
   ],
   "source": [
    "pd.DataFrame(supervised).shape"
   ]
  },
  {
   "cell_type": "code",
   "execution_count": 83,
   "metadata": {},
   "outputs": [
    {
     "data": {
      "text/plain": [
       "Index(['var1(t-1)', 'var2(t-1)', 'var3(t-1)', 'var4(t-1)', 'var5(t-1)',\n",
       "       'var6(t-1)', 'var7(t-1)', 'var8(t-1)', 'var9(t-1)', 'var10(t-1)',\n",
       "       'var11(t-1)', 'var12(t-1)', 'var13(t-1)', 'var14(t-1)', 'var15(t-1)',\n",
       "       'var16(t-1)', 'var17(t-1)', 'var18(t-1)', 'var18(t)'],\n",
       "      dtype='object')"
      ]
     },
     "execution_count": 83,
     "metadata": {},
     "output_type": "execute_result"
    }
   ],
   "source": [
    "supervised.columns"
   ]
  },
  {
   "cell_type": "code",
   "execution_count": 84,
   "metadata": {},
   "outputs": [
    {
     "data": {
      "text/html": [
       "<div>\n",
       "<style scoped>\n",
       "    .dataframe tbody tr th:only-of-type {\n",
       "        vertical-align: middle;\n",
       "    }\n",
       "\n",
       "    .dataframe tbody tr th {\n",
       "        vertical-align: top;\n",
       "    }\n",
       "\n",
       "    .dataframe thead th {\n",
       "        text-align: right;\n",
       "    }\n",
       "</style>\n",
       "<table border=\"1\" class=\"dataframe\">\n",
       "  <thead>\n",
       "    <tr style=\"text-align: right;\">\n",
       "      <th></th>\n",
       "      <th>var18(t)</th>\n",
       "    </tr>\n",
       "  </thead>\n",
       "  <tbody>\n",
       "    <tr>\n",
       "      <th>1</th>\n",
       "      <td>0.0</td>\n",
       "    </tr>\n",
       "    <tr>\n",
       "      <th>2</th>\n",
       "      <td>0.0</td>\n",
       "    </tr>\n",
       "    <tr>\n",
       "      <th>3</th>\n",
       "      <td>1.0</td>\n",
       "    </tr>\n",
       "    <tr>\n",
       "      <th>4</th>\n",
       "      <td>1.0</td>\n",
       "    </tr>\n",
       "    <tr>\n",
       "      <th>5</th>\n",
       "      <td>1.0</td>\n",
       "    </tr>\n",
       "  </tbody>\n",
       "</table>\n",
       "</div>"
      ],
      "text/plain": [
       "   var18(t)\n",
       "1       0.0\n",
       "2       0.0\n",
       "3       1.0\n",
       "4       1.0\n",
       "5       1.0"
      ]
     },
     "execution_count": 84,
     "metadata": {},
     "output_type": "execute_result"
    }
   ],
   "source": [
    "supervised.head().iloc[:,[18]]"
   ]
  },
  {
   "cell_type": "code",
   "execution_count": 85,
   "metadata": {},
   "outputs": [],
   "source": [
    "X = supervised.iloc[:,0:18].values\n",
    "y = supervised.iloc[:, 18].values\n",
    "\n",
    "from sklearn.preprocessing import MinMaxScaler\n",
    "scaler = MinMaxScaler()\n",
    "X = scaler.fit_transform(X)"
   ]
  },
  {
   "cell_type": "code",
   "execution_count": 86,
   "metadata": {},
   "outputs": [],
   "source": [
    "from sklearn.model_selection import train_test_split\n",
    "\n",
    "X_train, X_test, y_train, y_test = train_test_split(X, y, test_size=0.2, random_state=0)"
   ]
  },
  {
   "cell_type": "markdown",
   "metadata": {},
   "source": [
    "Como detectamos anteriormente un desbalance en los desvíos vs no desvíos, a continuación se realiza un oversampling. También deberemos dar"
   ]
  },
  {
   "cell_type": "code",
   "execution_count": 87,
   "metadata": {},
   "outputs": [],
   "source": [
    "from imblearn.over_sampling import SMOTE\n",
    "sm = SMOTE(random_state = 123) \n",
    "\n",
    "X_train, y_train = sm.fit_resample(X_train, y_train)"
   ]
  },
  {
   "cell_type": "code",
   "execution_count": 88,
   "metadata": {},
   "outputs": [
    {
     "data": {
      "text/plain": [
       "1.0    67416\n",
       "0.0    67416\n",
       "Name: 0, dtype: int64"
      ]
     },
     "execution_count": 88,
     "metadata": {},
     "output_type": "execute_result"
    }
   ],
   "source": [
    "temp = pd.DataFrame(y_train)\n",
    "temp.iloc[:,0].astype('category').value_counts()"
   ]
  },
  {
   "cell_type": "code",
   "execution_count": 89,
   "metadata": {},
   "outputs": [],
   "source": [
    "# importar RF\n",
    "from sklearn.ensemble import RandomForestClassifier\n",
    "rf = RandomForestClassifier(criterion = 'entropy')"
   ]
  },
  {
   "cell_type": "code",
   "execution_count": 90,
   "metadata": {},
   "outputs": [],
   "source": [
    "rf_model1 = rf.fit(X_train, y_train)\n",
    "preds_rf_test = rf_model1.predict(X_test)\n",
    "preds_rf_train = rf_model1.predict(X_train)"
   ]
  },
  {
   "cell_type": "code",
   "execution_count": 91,
   "metadata": {},
   "outputs": [
    {
     "name": "stdout",
     "output_type": "stream",
     "text": [
      "[[15802  1069]\n",
      " [ 1251  4434]]\n",
      "              precision    recall  f1-score   support\n",
      "\n",
      "         0.0       0.93      0.94      0.93     16871\n",
      "         1.0       0.81      0.78      0.79      5685\n",
      "\n",
      "    accuracy                           0.90     22556\n",
      "   macro avg       0.87      0.86      0.86     22556\n",
      "weighted avg       0.90      0.90      0.90     22556\n",
      "\n",
      "0.8971448838446533\n",
      "[[67416     0]\n",
      " [    1 67415]]\n",
      "              precision    recall  f1-score   support\n",
      "\n",
      "         0.0       1.00      1.00      1.00     67416\n",
      "         1.0       1.00      1.00      1.00     67416\n",
      "\n",
      "    accuracy                           1.00    134832\n",
      "   macro avg       1.00      1.00      1.00    134832\n",
      "weighted avg       1.00      1.00      1.00    134832\n",
      "\n",
      "0.9999925833629999\n"
     ]
    }
   ],
   "source": [
    "from sklearn.metrics import classification_report, confusion_matrix, accuracy_score\n",
    "\n",
    "print(confusion_matrix(y_test,preds_rf_test))\n",
    "print(classification_report(y_test,preds_rf_test))\n",
    "print(accuracy_score(y_test, preds_rf_test))\n",
    "\n",
    "print(confusion_matrix(y_train,preds_rf_train))\n",
    "print(classification_report(y_train,preds_rf_train))\n",
    "print(accuracy_score(y_train,preds_rf_train))"
   ]
  },
  {
   "cell_type": "markdown",
   "metadata": {},
   "source": [
    "Vemos que al modelo le va relativamente bien, tiene un alto accuracy en el dataset de testeo, lo cual indica que en términos generales el modelo logra predecir las categorías. Sin embargo, al obsevar el recall, la precisión y el f1-score, vemos que el modelo logra predecir mejor la categoría no desvío que la categoría desvío. Sería importante estudiar con la contraparte la ponderación de las consecuencias de tener una mayor tasa de falsos positivos o de falsos negativos. En este caso en particular, sugeriría estudiar las consecuencias de los desvíos positivos vs los desvíos negativos en la eficiencia distributiva de la energía, y también en los costos. Puede que sea una variable relevante.\n",
    "\n",
    "En definitiva, el modelo funciona relativamente bien, pero deberían destinarse esfuerzos a mejorar el recall y con ello el f1-score específicamente. Además, hay un sobreajuste evidente del modelo, el cual también debería intentar mejorarse"
   ]
  },
  {
   "cell_type": "code",
   "execution_count": 92,
   "metadata": {},
   "outputs": [
    {
     "data": {
      "text/plain": [
       "<matplotlib.axes._subplots.AxesSubplot at 0x7fa0395c37b8>"
      ]
     },
     "execution_count": 92,
     "metadata": {},
     "output_type": "execute_result"
    },
    {
     "data": {
      "image/png": "[encoded data removed]",
      "text/plain": [
       "<Figure size 432x288 with 1 Axes>"
      ]
     },
     "metadata": {
      "needs_background": "light"
     },
     "output_type": "display_data"
    }
   ],
   "source": [
    "feat_importances = pd.Series(rf_model1.feature_importances_, index=supervised.iloc[:,0:18].columns)\n",
    "feat_importances.nlargest(10).plot(kind='barh')"
   ]
  },
  {
   "cell_type": "markdown",
   "metadata": {},
   "source": [
    "La variable más importante es si durante la hora previa hubo o no un desvío en el costo programado ('var18(t-1)'), es la variable que entrega mayor capacidad predictiva al modelo. Luego el costo real obtenido en la hora previa ('var7(t-1)'), y la hora, en la hora previa ('var1(t-1)'), también destacan como variables que más aportan al modelo. Luego vendrían el día del mes de la observación durante la hora previa ('var12(t-1)'), la demanda ('var9(t-1)') durante la hora previa, el mes de la observación en la hora previa ('var11(t-1)'), la capacidad de generación máxima instalada presente en la observación de la hora previa ('var10(t-1)'), la suma de generación de los diferentes tipos de energía en la observación de la hora previa ('var17(t-1)'), el día de la semana (de lunes a viernes) de la observación de la hora previa, y la generación de energía hidráulica de la hora previa."
   ]
  },
  {
   "cell_type": "markdown",
   "metadata": {},
   "source": [
    "### 6. Predicción de desviaciones del costo marginal: modelo 2\n",
    "\n",
    "\n",
    "- Ahora imagina que te dicen que, en producción, te enviarán datos actualizados del sistema cada 12 horas. ¿Cuál debiese ser tu target a predecir en ese caso? Explica.\n",
    "- Entrena un nuevo modelo con ese target y evalúalo con una métrica que te parezca importante. ¿Cómo se compara con los resultados del modelo 1?"
   ]
  },
  {
   "cell_type": "markdown",
   "metadata": {},
   "source": [
    "En este caso la variable target debiera ser si hay o no desvío en la próxima hora, pero considerando el valor que tuvieron las variables independientes doce horas antes. Así, una llegados los datos, puedo predecir si habrá o no un desvío en la hora siguiente utilizando los datos de 12 horas antes."
   ]
  },
  {
   "cell_type": "code",
   "execution_count": 93,
   "metadata": {},
   "outputs": [],
   "source": [
    "supervised2 = series_to_supervised(values,12,1)\n",
    "\n",
    "supervised2 = supervised2.loc[:,['var18(t-12)',\n",
    "                               'var17(t-12)','var16(t-12)','var15(t-12)','var14(t-12)',\n",
    "                               'var13(t-12)','var12(t-12)', 'var11(t-12)','var10(t-12)',\n",
    "                               'var9(t-12)','var8(t-12)','var7(t-12)','var6(t-12)',\n",
    "                               'var5(t-12)','var4(t-12)','var3(t-12)','var2(t-12)',\n",
    "                               'var1(t-12)', 'var18(t)']]\n"
   ]
  },
  {
   "cell_type": "code",
   "execution_count": 94,
   "metadata": {},
   "outputs": [
    {
     "data": {
      "text/plain": [
       "(112767, 19)"
      ]
     },
     "execution_count": 94,
     "metadata": {},
     "output_type": "execute_result"
    }
   ],
   "source": [
    "supervised2.shape"
   ]
  },
  {
   "cell_type": "code",
   "execution_count": 95,
   "metadata": {},
   "outputs": [],
   "source": [
    "X = supervised2.iloc[:, 0:18].values\n",
    "X = scaler.fit_transform(X)\n",
    "\n",
    "y = supervised2.iloc[:, 18].values"
   ]
  },
  {
   "cell_type": "code",
   "execution_count": 96,
   "metadata": {},
   "outputs": [],
   "source": [
    "X_train, X_test, y_train, y_test = train_test_split(X, y, test_size=0.2, random_state=0)"
   ]
  },
  {
   "cell_type": "markdown",
   "metadata": {},
   "source": [
    "Nuevamente nos hacemos cargo del desbalance de categorías de la variable dependiente"
   ]
  },
  {
   "cell_type": "code",
   "execution_count": 97,
   "metadata": {},
   "outputs": [],
   "source": [
    "X_train, y_train = sm.fit_resample(X_train, y_train)"
   ]
  },
  {
   "cell_type": "code",
   "execution_count": 98,
   "metadata": {},
   "outputs": [],
   "source": [
    "rf_model2 = rf.fit(X_train, y_train)\n",
    "preds_rf_test = rf_model2.predict(X_test)\n",
    "preds_rf_train = rf_model2.predict(X_train)"
   ]
  },
  {
   "cell_type": "code",
   "execution_count": 99,
   "metadata": {},
   "outputs": [
    {
     "name": "stdout",
     "output_type": "stream",
     "text": [
      "[[15818  1091]\n",
      " [ 1445  4200]]\n",
      "              precision    recall  f1-score   support\n",
      "\n",
      "         0.0       0.92      0.94      0.93     16909\n",
      "         1.0       0.79      0.74      0.77      5645\n",
      "\n",
      "    accuracy                           0.89     22554\n",
      "   macro avg       0.86      0.84      0.85     22554\n",
      "weighted avg       0.89      0.89      0.89     22554\n",
      "\n",
      "0.8875587478939434\n",
      "[[67373     0]\n",
      " [    0 67373]]\n",
      "              precision    recall  f1-score   support\n",
      "\n",
      "         0.0       1.00      1.00      1.00     67373\n",
      "         1.0       1.00      1.00      1.00     67373\n",
      "\n",
      "    accuracy                           1.00    134746\n",
      "   macro avg       1.00      1.00      1.00    134746\n",
      "weighted avg       1.00      1.00      1.00    134746\n",
      "\n",
      "1.0\n"
     ]
    }
   ],
   "source": [
    "print(confusion_matrix(y_test,preds_rf_test))\n",
    "print(classification_report(y_test,preds_rf_test))\n",
    "print(accuracy_score(y_test, preds_rf_test))\n",
    "\n",
    "print(confusion_matrix(y_train,preds_rf_train))\n",
    "print(classification_report(y_train,preds_rf_train))\n",
    "print(accuracy_score(y_train,preds_rf_train))"
   ]
  },
  {
   "cell_type": "markdown",
   "metadata": {},
   "source": [
    "El modelo está claramente sobreajustado, por la diferencia entre los indicadores obtenidos en los datos de entrenamiento vs los de testeo. Sin embargo, el modelo mantiene relativamente buen desempeño en los datos de testeo, aunque igual que en el modelo 1, se deberían destinar esfuerzos a mejorar la precisión y el recall, y con ello el f1-score para la categoría desvío, ya que son los que indican si hay una buena capacidad de predicción para esa categoría de la variable dependiente."
   ]
  },
  {
   "cell_type": "code",
   "execution_count": 100,
   "metadata": {},
   "outputs": [
    {
     "data": {
      "text/plain": [
       "<matplotlib.axes._subplots.AxesSubplot at 0x7fa0395ae940>"
      ]
     },
     "execution_count": 100,
     "metadata": {},
     "output_type": "execute_result"
    },
    {
     "data": {
      "image/png": "[encoded data removed]",
      "text/plain": [
       "<Figure size 432x288 with 1 Axes>"
      ]
     },
     "metadata": {
      "needs_background": "light"
     },
     "output_type": "display_data"
    }
   ],
   "source": [
    "feat_importances = pd.Series(rf_model2.feature_importances_, index=supervised2.iloc[:,0:18].columns)\n",
    "feat_importances.nlargest(10).plot(kind='barh')"
   ]
  },
  {
   "cell_type": "markdown",
   "metadata": {},
   "source": [
    "La variable más importante es si durante la hora previa hubo o no un desvío en el costo programado ('var18(t-12)'), luego el el costo real obtenido en las 12 horas previas ('var7(t-12)'), luego el día del mes de la observación durante las 12 horas anteriores a la hora de predicción ('var12(t-12)'), luego la demanda ('var9(t-1)') durante las 12 horas previas y el mes de la observación en la hora previa ('var11(t-12)'). Finalmente, con menor importancia pero igual aportando al modelo se encuentran las variables de la capacidad de generación máxima instalada presente en la observación de las 12 horas previas ('var10(t-12)'),  el día de la semana (de lunes a viernes) de la observación de las 12 horas previas ('var14(t-12)'), la suma de generación de los diferentes tipos de energía en la observación de las 12 horas previas ('var17(t-12)'), la generación de energía hidráulica de las 12 horas previas ('var4(t-12)') y la generación de energía térmica de las 12 horas previas ('var6(t-12)')."
   ]
  },
  {
   "cell_type": "markdown",
   "metadata": {},
   "source": [
    "### 7. Merge con datos de clima: modelo 3\n",
    "\n",
    "\n",
    "- Haz un merge con los datos de clima (datos_clima.csv) y entrena nuevamente tu modelo 2.\n",
    "- ¿Cómo manejas el data leakage en este caso? ¿Cuánto mejora la capacidad predictiva del modelo? ¿Cuáles variables son las más importantes?"
   ]
  },
  {
   "cell_type": "code",
   "execution_count": 101,
   "metadata": {},
   "outputs": [],
   "source": [
    "clima = pd.read_csv('data/datos_clima.csv')"
   ]
  },
  {
   "cell_type": "code",
   "execution_count": 102,
   "metadata": {},
   "outputs": [],
   "source": [
    "clima['fecha'] = clima['fecha'].str.replace(' UTC', '')\n",
    "clima.loc[:,'fecha'] = pd.to_datetime(clima['fecha'], utc = True)\n",
    "df_pred.loc[:,'fecha'] = pd.to_datetime(df_pred['fecha'], utc = True)"
   ]
  },
  {
   "cell_type": "code",
   "execution_count": 103,
   "metadata": {},
   "outputs": [],
   "source": [
    "df_pred_clima = df_pred.merge(clima, how = \"left\", left_on=['nemotecnico_se', 'fecha'], right_on=['subestacion', 'fecha'])"
   ]
  },
  {
   "cell_type": "code",
   "execution_count": 104,
   "metadata": {},
   "outputs": [
    {
     "data": {
      "text/plain": [
       "(112779, 42)"
      ]
     },
     "execution_count": 104,
     "metadata": {},
     "output_type": "execute_result"
    }
   ],
   "source": [
    "cmg_alone = df_pred_clima[['cmg_desv_cat']]\n",
    "df_pred_clima = df_pred_clima.drop('cmg_desv_cat', axis = 1)\n",
    "df_pred_clima['cmg_desv_cat'] = cmg_alone\n",
    "                                   \n",
    "df_pred_clima.shape                                   "
   ]
  },
  {
   "cell_type": "code",
   "execution_count": 105,
   "metadata": {},
   "outputs": [
    {
     "data": {
      "text/html": [
       "<div>\n",
       "<style scoped>\n",
       "    .dataframe tbody tr th:only-of-type {\n",
       "        vertical-align: middle;\n",
       "    }\n",
       "\n",
       "    .dataframe tbody tr th {\n",
       "        vertical-align: top;\n",
       "    }\n",
       "\n",
       "    .dataframe thead th {\n",
       "        text-align: right;\n",
       "    }\n",
       "</style>\n",
       "<table border=\"1\" class=\"dataframe\">\n",
       "  <thead>\n",
       "    <tr style=\"text-align: right;\">\n",
       "      <th></th>\n",
       "      <th>nemotecnico_se</th>\n",
       "      <th>fecha</th>\n",
       "      <th>hora</th>\n",
       "      <th>gen_eolica_total_mwh</th>\n",
       "      <th>gen_geotermica_total_mwh</th>\n",
       "      <th>gen_hidraulica_total_mwh</th>\n",
       "      <th>gen_solar_total_mwh</th>\n",
       "      <th>gen_termica_total_mwh</th>\n",
       "      <th>cmg_real</th>\n",
       "      <th>cmg_prog</th>\n",
       "      <th>...</th>\n",
       "      <th>T2M_MIN</th>\n",
       "      <th>TQV</th>\n",
       "      <th>TS</th>\n",
       "      <th>WS10M</th>\n",
       "      <th>WS10M_MAX</th>\n",
       "      <th>WS10M_MIN</th>\n",
       "      <th>WS50M</th>\n",
       "      <th>WS50M_MAX</th>\n",
       "      <th>WS50M_MIN</th>\n",
       "      <th>cmg_desv_cat</th>\n",
       "    </tr>\n",
       "  </thead>\n",
       "  <tbody>\n",
       "    <tr>\n",
       "      <th>0</th>\n",
       "      <td>SE031G216</td>\n",
       "      <td>2019-01-04 00:00:00+00:00</td>\n",
       "      <td>1</td>\n",
       "      <td>NaN</td>\n",
       "      <td>NaN</td>\n",
       "      <td>NaN</td>\n",
       "      <td>NaN</td>\n",
       "      <td>0.0</td>\n",
       "      <td>56.2</td>\n",
       "      <td>55.627852</td>\n",
       "      <td>...</td>\n",
       "      <td>17.16</td>\n",
       "      <td>3.33</td>\n",
       "      <td>23.89</td>\n",
       "      <td>3.56</td>\n",
       "      <td>6.31</td>\n",
       "      <td>1.5</td>\n",
       "      <td>3.4</td>\n",
       "      <td>5.49</td>\n",
       "      <td>1.47</td>\n",
       "      <td>0</td>\n",
       "    </tr>\n",
       "    <tr>\n",
       "      <th>1</th>\n",
       "      <td>SE031G216</td>\n",
       "      <td>2019-01-04 00:00:00+00:00</td>\n",
       "      <td>2</td>\n",
       "      <td>NaN</td>\n",
       "      <td>NaN</td>\n",
       "      <td>NaN</td>\n",
       "      <td>NaN</td>\n",
       "      <td>0.0</td>\n",
       "      <td>56.2</td>\n",
       "      <td>55.376645</td>\n",
       "      <td>...</td>\n",
       "      <td>17.16</td>\n",
       "      <td>3.33</td>\n",
       "      <td>23.89</td>\n",
       "      <td>3.56</td>\n",
       "      <td>6.31</td>\n",
       "      <td>1.5</td>\n",
       "      <td>3.4</td>\n",
       "      <td>5.49</td>\n",
       "      <td>1.47</td>\n",
       "      <td>0</td>\n",
       "    </tr>\n",
       "    <tr>\n",
       "      <th>2</th>\n",
       "      <td>SE031G216</td>\n",
       "      <td>2019-01-04 00:00:00+00:00</td>\n",
       "      <td>3</td>\n",
       "      <td>NaN</td>\n",
       "      <td>NaN</td>\n",
       "      <td>NaN</td>\n",
       "      <td>NaN</td>\n",
       "      <td>0.0</td>\n",
       "      <td>56.2</td>\n",
       "      <td>59.531891</td>\n",
       "      <td>...</td>\n",
       "      <td>17.16</td>\n",
       "      <td>3.33</td>\n",
       "      <td>23.89</td>\n",
       "      <td>3.56</td>\n",
       "      <td>6.31</td>\n",
       "      <td>1.5</td>\n",
       "      <td>3.4</td>\n",
       "      <td>5.49</td>\n",
       "      <td>1.47</td>\n",
       "      <td>0</td>\n",
       "    </tr>\n",
       "    <tr>\n",
       "      <th>3</th>\n",
       "      <td>SE031G216</td>\n",
       "      <td>2019-01-04 00:00:00+00:00</td>\n",
       "      <td>4</td>\n",
       "      <td>NaN</td>\n",
       "      <td>NaN</td>\n",
       "      <td>NaN</td>\n",
       "      <td>NaN</td>\n",
       "      <td>0.0</td>\n",
       "      <td>56.2</td>\n",
       "      <td>174.378923</td>\n",
       "      <td>...</td>\n",
       "      <td>17.16</td>\n",
       "      <td>3.33</td>\n",
       "      <td>23.89</td>\n",
       "      <td>3.56</td>\n",
       "      <td>6.31</td>\n",
       "      <td>1.5</td>\n",
       "      <td>3.4</td>\n",
       "      <td>5.49</td>\n",
       "      <td>1.47</td>\n",
       "      <td>1</td>\n",
       "    </tr>\n",
       "    <tr>\n",
       "      <th>4</th>\n",
       "      <td>SE031G216</td>\n",
       "      <td>2019-01-04 00:00:00+00:00</td>\n",
       "      <td>5</td>\n",
       "      <td>NaN</td>\n",
       "      <td>NaN</td>\n",
       "      <td>NaN</td>\n",
       "      <td>NaN</td>\n",
       "      <td>0.0</td>\n",
       "      <td>56.2</td>\n",
       "      <td>172.820310</td>\n",
       "      <td>...</td>\n",
       "      <td>17.16</td>\n",
       "      <td>3.33</td>\n",
       "      <td>23.89</td>\n",
       "      <td>3.56</td>\n",
       "      <td>6.31</td>\n",
       "      <td>1.5</td>\n",
       "      <td>3.4</td>\n",
       "      <td>5.49</td>\n",
       "      <td>1.47</td>\n",
       "      <td>1</td>\n",
       "    </tr>\n",
       "  </tbody>\n",
       "</table>\n",
       "<p>5 rows × 42 columns</p>\n",
       "</div>"
      ],
      "text/plain": [
       "  nemotecnico_se                     fecha  hora  gen_eolica_total_mwh  \\\n",
       "0      SE031G216 2019-01-04 00:00:00+00:00     1                   NaN   \n",
       "1      SE031G216 2019-01-04 00:00:00+00:00     2                   NaN   \n",
       "2      SE031G216 2019-01-04 00:00:00+00:00     3                   NaN   \n",
       "3      SE031G216 2019-01-04 00:00:00+00:00     4                   NaN   \n",
       "4      SE031G216 2019-01-04 00:00:00+00:00     5                   NaN   \n",
       "\n",
       "   gen_geotermica_total_mwh  gen_hidraulica_total_mwh  gen_solar_total_mwh  \\\n",
       "0                       NaN                       NaN                  NaN   \n",
       "1                       NaN                       NaN                  NaN   \n",
       "2                       NaN                       NaN                  NaN   \n",
       "3                       NaN                       NaN                  NaN   \n",
       "4                       NaN                       NaN                  NaN   \n",
       "\n",
       "   gen_termica_total_mwh  cmg_real    cmg_prog  ...  T2M_MIN   TQV     TS  \\\n",
       "0                    0.0      56.2   55.627852  ...    17.16  3.33  23.89   \n",
       "1                    0.0      56.2   55.376645  ...    17.16  3.33  23.89   \n",
       "2                    0.0      56.2   59.531891  ...    17.16  3.33  23.89   \n",
       "3                    0.0      56.2  174.378923  ...    17.16  3.33  23.89   \n",
       "4                    0.0      56.2  172.820310  ...    17.16  3.33  23.89   \n",
       "\n",
       "   WS10M  WS10M_MAX  WS10M_MIN  WS50M  WS50M_MAX  WS50M_MIN cmg_desv_cat  \n",
       "0   3.56       6.31        1.5    3.4       5.49       1.47            0  \n",
       "1   3.56       6.31        1.5    3.4       5.49       1.47            0  \n",
       "2   3.56       6.31        1.5    3.4       5.49       1.47            0  \n",
       "3   3.56       6.31        1.5    3.4       5.49       1.47            1  \n",
       "4   3.56       6.31        1.5    3.4       5.49       1.47            1  \n",
       "\n",
       "[5 rows x 42 columns]"
      ]
     },
     "execution_count": 105,
     "metadata": {},
     "output_type": "execute_result"
    }
   ],
   "source": [
    "df_pred_clima.head()"
   ]
  },
  {
   "cell_type": "markdown",
   "metadata": {},
   "source": [
    "Rellenamos NA's con valores 0. Como se mencionó antes, debería evaluarse estudiando mejor el caso cuál podría ser un tratamiento alternativo de los NA."
   ]
  },
  {
   "cell_type": "code",
   "execution_count": 106,
   "metadata": {},
   "outputs": [],
   "source": [
    "df_pred_clima = df_pred_clima.drop(['nemotecnico_se', 'subestacion', 'cmg_desv_pct', 'cmg_desv', 'cmg_prog'], axis = 1)\n",
    "df_pred_clima = df_pred_clima.set_index('fecha')\n",
    "df_pred_clima.fillna(0, inplace=True)"
   ]
  },
  {
   "cell_type": "code",
   "execution_count": 142,
   "metadata": {},
   "outputs": [
    {
     "data": {
      "text/html": [
       "<div>\n",
       "<style scoped>\n",
       "    .dataframe tbody tr th:only-of-type {\n",
       "        vertical-align: middle;\n",
       "    }\n",
       "\n",
       "    .dataframe tbody tr th {\n",
       "        vertical-align: top;\n",
       "    }\n",
       "\n",
       "    .dataframe thead th {\n",
       "        text-align: right;\n",
       "    }\n",
       "</style>\n",
       "<table border=\"1\" class=\"dataframe\">\n",
       "  <thead>\n",
       "    <tr style=\"text-align: right;\">\n",
       "      <th></th>\n",
       "      <th>ALLSKY_SFC_SW_DWN</th>\n",
       "      <th>KT</th>\n",
       "      <th>PRECTOT</th>\n",
       "      <th>RH2M</th>\n",
       "      <th>T2M</th>\n",
       "      <th>T2MDEW</th>\n",
       "      <th>T2M_MAX</th>\n",
       "      <th>T2M_MIN</th>\n",
       "      <th>TQV</th>\n",
       "      <th>TS</th>\n",
       "      <th>WS10M</th>\n",
       "    </tr>\n",
       "    <tr>\n",
       "      <th>fecha</th>\n",
       "      <th></th>\n",
       "      <th></th>\n",
       "      <th></th>\n",
       "      <th></th>\n",
       "      <th></th>\n",
       "      <th></th>\n",
       "      <th></th>\n",
       "      <th></th>\n",
       "      <th></th>\n",
       "      <th></th>\n",
       "      <th></th>\n",
       "    </tr>\n",
       "  </thead>\n",
       "  <tbody>\n",
       "    <tr>\n",
       "      <th>2019-01-04 00:00:00+00:00</th>\n",
       "      <td>6.95</td>\n",
       "      <td>0.6</td>\n",
       "      <td>0.08</td>\n",
       "      <td>67.97</td>\n",
       "      <td>20.55</td>\n",
       "      <td>14.53</td>\n",
       "      <td>25.07</td>\n",
       "      <td>17.16</td>\n",
       "      <td>3.33</td>\n",
       "      <td>23.89</td>\n",
       "      <td>3.56</td>\n",
       "    </tr>\n",
       "    <tr>\n",
       "      <th>2019-01-04 00:00:00+00:00</th>\n",
       "      <td>6.95</td>\n",
       "      <td>0.6</td>\n",
       "      <td>0.08</td>\n",
       "      <td>67.97</td>\n",
       "      <td>20.55</td>\n",
       "      <td>14.53</td>\n",
       "      <td>25.07</td>\n",
       "      <td>17.16</td>\n",
       "      <td>3.33</td>\n",
       "      <td>23.89</td>\n",
       "      <td>3.56</td>\n",
       "    </tr>\n",
       "    <tr>\n",
       "      <th>2019-01-04 00:00:00+00:00</th>\n",
       "      <td>6.95</td>\n",
       "      <td>0.6</td>\n",
       "      <td>0.08</td>\n",
       "      <td>67.97</td>\n",
       "      <td>20.55</td>\n",
       "      <td>14.53</td>\n",
       "      <td>25.07</td>\n",
       "      <td>17.16</td>\n",
       "      <td>3.33</td>\n",
       "      <td>23.89</td>\n",
       "      <td>3.56</td>\n",
       "    </tr>\n",
       "    <tr>\n",
       "      <th>2019-01-04 00:00:00+00:00</th>\n",
       "      <td>6.95</td>\n",
       "      <td>0.6</td>\n",
       "      <td>0.08</td>\n",
       "      <td>67.97</td>\n",
       "      <td>20.55</td>\n",
       "      <td>14.53</td>\n",
       "      <td>25.07</td>\n",
       "      <td>17.16</td>\n",
       "      <td>3.33</td>\n",
       "      <td>23.89</td>\n",
       "      <td>3.56</td>\n",
       "    </tr>\n",
       "    <tr>\n",
       "      <th>2019-01-04 00:00:00+00:00</th>\n",
       "      <td>6.95</td>\n",
       "      <td>0.6</td>\n",
       "      <td>0.08</td>\n",
       "      <td>67.97</td>\n",
       "      <td>20.55</td>\n",
       "      <td>14.53</td>\n",
       "      <td>25.07</td>\n",
       "      <td>17.16</td>\n",
       "      <td>3.33</td>\n",
       "      <td>23.89</td>\n",
       "      <td>3.56</td>\n",
       "    </tr>\n",
       "  </tbody>\n",
       "</table>\n",
       "</div>"
      ],
      "text/plain": [
       "                           ALLSKY_SFC_SW_DWN   KT  PRECTOT   RH2M    T2M  \\\n",
       "fecha                                                                      \n",
       "2019-01-04 00:00:00+00:00               6.95  0.6     0.08  67.97  20.55   \n",
       "2019-01-04 00:00:00+00:00               6.95  0.6     0.08  67.97  20.55   \n",
       "2019-01-04 00:00:00+00:00               6.95  0.6     0.08  67.97  20.55   \n",
       "2019-01-04 00:00:00+00:00               6.95  0.6     0.08  67.97  20.55   \n",
       "2019-01-04 00:00:00+00:00               6.95  0.6     0.08  67.97  20.55   \n",
       "\n",
       "                           T2MDEW  T2M_MAX  T2M_MIN   TQV     TS  WS10M  \n",
       "fecha                                                                    \n",
       "2019-01-04 00:00:00+00:00   14.53    25.07    17.16  3.33  23.89   3.56  \n",
       "2019-01-04 00:00:00+00:00   14.53    25.07    17.16  3.33  23.89   3.56  \n",
       "2019-01-04 00:00:00+00:00   14.53    25.07    17.16  3.33  23.89   3.56  \n",
       "2019-01-04 00:00:00+00:00   14.53    25.07    17.16  3.33  23.89   3.56  \n",
       "2019-01-04 00:00:00+00:00   14.53    25.07    17.16  3.33  23.89   3.56  "
      ]
     },
     "execution_count": 142,
     "metadata": {},
     "output_type": "execute_result"
    }
   ],
   "source": [
    "df_pred_clima.head().iloc[:,19:30]"
   ]
  },
  {
   "cell_type": "code",
   "execution_count": 108,
   "metadata": {},
   "outputs": [],
   "source": [
    "values = df_pred_clima.values"
   ]
  },
  {
   "cell_type": "code",
   "execution_count": 112,
   "metadata": {},
   "outputs": [],
   "source": [
    "supervised3 = series_to_supervised(values,12,1)\n",
    "\n",
    "supervised3 = supervised3.loc[:,['var36(t-12)',\n",
    "                                 'var35(t-12)','var34(t-12)','var33(t-12)', 'var32(t-12)',\n",
    "                                 'var31(t-12)','var30(t-12)','var29(t-12)', 'var28(t-12)',\n",
    "                                 'var27(t-12)','var26(t-12)','var25(t-12)', 'var24(t-12)',\n",
    "                                 'var23(t-12)','var22(t-12)','var21(t-12)', 'var20(t-12)',\n",
    "                                 'var19(t-12)', 'var18(t-12)',\n",
    "                               'var17(t-12)','var16(t-12)','var15(t-12)','var14(t-12)',\n",
    "                               'var13(t-12)','var12(t-12)', 'var11(t-12)','var10(t-12)',\n",
    "                               'var9(t-12)','var8(t-12)','var7(t-12)','var6(t-12)',\n",
    "                               'var5(t-12)','var4(t-12)','var3(t-12)','var2(t-12)', 'var36(t)']]"
   ]
  },
  {
   "cell_type": "code",
   "execution_count": 115,
   "metadata": {},
   "outputs": [
    {
     "data": {
      "text/plain": [
       "(112767, 36)"
      ]
     },
     "execution_count": 115,
     "metadata": {},
     "output_type": "execute_result"
    }
   ],
   "source": [
    "supervised3.shape"
   ]
  },
  {
   "cell_type": "code",
   "execution_count": 120,
   "metadata": {},
   "outputs": [],
   "source": [
    "X = supervised3.iloc[:, 0:35].values\n",
    "\n",
    "X = scaler.fit_transform(X)\n",
    "\n",
    "y = supervised3.iloc[:, 35].values\n",
    "y = y.astype('int')"
   ]
  },
  {
   "cell_type": "code",
   "execution_count": 121,
   "metadata": {},
   "outputs": [],
   "source": [
    "X_train, X_test, y_train, y_test = train_test_split(X, y, test_size=0.2, random_state=0)"
   ]
  },
  {
   "cell_type": "markdown",
   "metadata": {},
   "source": [
    "Nuevamente nos hacemos cargo del desbalance de categorías de la variable dependiente, ya que al tener que calcular los lags de las variables nuevamente al hacer el merge, el oversampling realizado en un comienzo se perdió."
   ]
  },
  {
   "cell_type": "code",
   "execution_count": 122,
   "metadata": {},
   "outputs": [],
   "source": [
    "X_train, y_train = sm.fit_resample(X_train, y_train)"
   ]
  },
  {
   "cell_type": "code",
   "execution_count": 123,
   "metadata": {},
   "outputs": [],
   "source": [
    "rf_model3 = rf.fit(X_train, y_train)\n",
    "preds_rf_test = rf_model3.predict(X_test)\n",
    "preds_rf_train = rf_model3.predict(X_train)"
   ]
  },
  {
   "cell_type": "code",
   "execution_count": 124,
   "metadata": {},
   "outputs": [
    {
     "name": "stdout",
     "output_type": "stream",
     "text": [
      "[[14862  2047]\n",
      " [ 1772  3873]]\n",
      "              precision    recall  f1-score   support\n",
      "\n",
      "           0       0.89      0.88      0.89     16909\n",
      "           1       0.65      0.69      0.67      5645\n",
      "\n",
      "    accuracy                           0.83     22554\n",
      "   macro avg       0.77      0.78      0.78     22554\n",
      "weighted avg       0.83      0.83      0.83     22554\n",
      "\n",
      "0.8306730513434424\n",
      "[[67227   146]\n",
      " [  139 67234]]\n",
      "              precision    recall  f1-score   support\n",
      "\n",
      "           0       1.00      1.00      1.00     67373\n",
      "           1       1.00      1.00      1.00     67373\n",
      "\n",
      "    accuracy                           1.00    134746\n",
      "   macro avg       1.00      1.00      1.00    134746\n",
      "weighted avg       1.00      1.00      1.00    134746\n",
      "\n",
      "0.9978849093850652\n"
     ]
    }
   ],
   "source": [
    "print(confusion_matrix(y_test,preds_rf_test))\n",
    "print(classification_report(y_test,preds_rf_test))\n",
    "print(accuracy_score(y_test, preds_rf_test))\n",
    "\n",
    "\n",
    "print(confusion_matrix(y_train,preds_rf_train))\n",
    "print(classification_report(y_train,preds_rf_train))\n",
    "print(accuracy_score(y_train,preds_rf_train))"
   ]
  },
  {
   "cell_type": "markdown",
   "metadata": {},
   "source": [
    "El modelo está claramente sobreajustado nuevamente, por la diferencia entre los indicadores obtenidos en los datos de entrenamiento vs los de testeo. Por otra parte, el modelo con los datos de clima tiene un accuracy más bajo que antes de integrar estos datos, y el f-1 score, la precisión y el recall también empeoran. Así, este modelo es el que tiene peor desempeño de los tres en los datos de testeo. Con la información presente parece que no vale la pena incorporar los datos de clima, ya que no mejora el modelo, e incorporar esta información significaría un mayor costo económico y computacional para mantener el modelo en producción.\n",
    "\n",
    "Ya que se utilizó Random Forest, las variables temporales mostraron ser importantes, y hay un sobreajuste evidente en el modelo, se recomienda reanalizar la estacionalidad y tendencia en los datos y probar con un modelo de Machine Learning como ARIMA u otro, que pueda lidiar con factores temporales y la presencia de una dependencia entre las variables predictoras."
   ]
  },
  {
   "cell_type": "code",
   "execution_count": 126,
   "metadata": {},
   "outputs": [
    {
     "data": {
      "text/plain": [
       "<matplotlib.axes._subplots.AxesSubplot at 0x7fa0394e1da0>"
      ]
     },
     "execution_count": 126,
     "metadata": {},
     "output_type": "execute_result"
    },
    {
     "data": {
      "image/png": "[encoded data removed]",
      "text/plain": [
       "<Figure size 432x288 with 1 Axes>"
      ]
     },
     "metadata": {
      "needs_background": "light"
     },
     "output_type": "display_data"
    }
   ],
   "source": [
    "feat_importances = pd.Series(rf_model3.feature_importances_, index=supervised3.iloc[:,0:35].columns)\n",
    "feat_importances.nlargest(10).plot(kind='barh')"
   ]
  },
  {
   "cell_type": "markdown",
   "metadata": {},
   "source": [
    "Las variables más relevantes son el costo real ('var7(t-12')), la demanda ('var9(t-12')), la suma total de generación de diferentes tipos de energía ('var17(t-12')), el día del mes ('var12(t-12')), el número de la semana en el año ('var15(t-12')), la cantidad de generación solar ('var5(t-12')), el día de la semana ('var14(t-12')), la cantidad de generación térmica ('var6(t-12')), los incidentes de insolación ('var20(t-12')) de los datos de clima, y la temperatura de la superficie de la tierra (TS) ('var29(t-12')) también de los datos de clima. En cada caso se consideraron las observaciones 12 horas antes de la hora target a predecir."
   ]
  },
  {
   "cell_type": "markdown",
   "metadata": {},
   "source": [
    "### 8. Reflexión\n",
    "\n",
    "\n",
    "- ¿Por qué sería bueno utilizar un modelo como este para anticiparse a desvíos de precios de la energía?\n",
    "\n",
    "El Sistema Eléctrico Nacional al parecer es el encargado de regular la generación, producción y transferencia de energía eléctrica en el país. Dentro de sus objetivos está programar la generación de electricidad para minimizar costos al mismo tiempo que se vela por proveer el acceso a sistemas de transmisión. De esta forma, cuando las empresas privadas no se ajustan a la generación y costos programados, deben pagar multas. Así, este sistema podría ayudar al Sistema Eléctrico Nacional para minimizar costos.\n",
    "\n",
    "- ¿Qué casos de uso te imaginas podrían beneficiarse teniendo acceso a un modelo como este?\n",
    "\n",
    "Además de ayudar al Sistema Eléctrico Nacional a reducir costos, también un modelo como este podría servir a las empresas privadas para detectar qué les está generando el desvío en sus propios compromisos programáticos. Otra posible aplicación se relaciona con que es posible que el desvío tenga una repercusión en cómo se distribuye la energía por parte del Coordinador Eléctrico Nacional, si es el caso, un modelo de este estilo podría servir para mantener una distribución óptima y eficiente al adelantarse al comportamiento de las empresas. Al igual que los bancos cuando detectan morosos, el Coordinador Eléctrico Nacional podría detectar aquellas subestaciones que faltan a su compromiso programático."
   ]
  }
 ],
 "metadata": {
  "kernelspec": {
   "display_name": "Python 3",
   "language": "python",
   "name": "python3"
  },
  "language_info": {
   "codemirror_mode": {
    "name": "ipython",
    "version": 3
   },
   "file_extension": ".py",
   "mimetype": "text/x-python",
   "name": "python",
   "nbconvert_exporter": "python",
   "pygments_lexer": "ipython3",
   "version": "3.6.9"
  }
 },
 "nbformat": 4,
 "nbformat_minor": 4
}
